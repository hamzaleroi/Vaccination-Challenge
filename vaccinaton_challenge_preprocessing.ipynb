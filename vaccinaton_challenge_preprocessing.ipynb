{
 "cells": [
  {
   "cell_type": "code",
   "execution_count": 2,
   "metadata": {
    "colab": {
     "base_uri": "https://localhost:8080/",
     "height": 765
    },
    "colab_type": "code",
    "id": "pfVats5LgdYK",
    "outputId": "613ea4ea-84eb-43bc-b8e2-ff6ba178ec63"
   },
   "outputs": [
    {
     "name": "stderr",
     "output_type": "stream",
     "text": [
      "'wget' is not recognized as an internal or external command,\n",
      "operable program or batch file.\n",
      "'wget' is not recognized as an internal or external command,\n",
      "operable program or batch file.\n",
      "'wget' is not recognized as an internal or external command,\n",
      "operable program or batch file.\n",
      "'wget' is not recognized as an internal or external command,\n",
      "operable program or batch file.\n"
     ]
    }
   ],
   "source": [
    "!wget https://s3.amazonaws.com/drivendata-prod/data/66/public/training_set_features.csv\n",
    "!wget https://s3.amazonaws.com/drivendata-prod/data/66/public/submission_format.csv\n",
    "!wget https://s3.amazonaws.com/drivendata-prod/data/66/public/training_set_labels.csv\n",
    "!wget https://s3.amazonaws.com/drivendata-prod/data/66/public/test_set_features.csv"
   ]
  },
  {
   "cell_type": "markdown",
   "metadata": {
    "colab_type": "text",
    "id": "PJ13XLOHNFSr"
   },
   "source": [
    "## Importing the needed libraries"
   ]
  },
  {
   "cell_type": "code",
   "execution_count": 3,
   "metadata": {
    "colab": {},
    "colab_type": "code",
    "id": "3BRvOUI4gos3"
   },
   "outputs": [],
   "source": [
    "import pandas as pd\n",
    "import numpy as np\n",
    "import matplotlib.pyplot as plt\n",
    "import seaborn as sns\n",
    "from sklearn.model_selection import train_test_split\n",
    "from sklearn.linear_model import LogisticRegression\n",
    "from sklearn.svm import LinearSVC,SVC\n",
    "from sklearn.ensemble import RandomForestClassifier\n",
    "from sklearn.model_selection import GridSearchCV\n",
    "from sklearn.metrics import  f1_score\n",
    "from sklearn.impute import SimpleImputer\n",
    "\n",
    "\n",
    "\n",
    "%matplotlib inline\n"
   ]
  },
  {
   "cell_type": "markdown",
   "metadata": {
    "colab_type": "text",
    "id": "HxPH8xyRNHit"
   },
   "source": [
    "## Importing data"
   ]
  },
  {
   "cell_type": "code",
   "execution_count": 6,
   "metadata": {
    "colab": {},
    "colab_type": "code",
    "id": "f-2UOwLRhEqw"
   },
   "outputs": [],
   "source": [
    "path_train_X='./training_set_features.csv'\n",
    "path_train_Y='./training_set_labels.csv'\n",
    "path_test_X='./test_set_features.csv'"
   ]
  },
  {
   "cell_type": "code",
   "execution_count": 7,
   "metadata": {
    "colab": {
     "base_uri": "https://localhost:8080/",
     "height": 153
    },
    "colab_type": "code",
    "id": "hFGdEiZIhXAZ",
    "outputId": "43bce4a8-65bf-4446-9eb1-bc7a4236d5be"
   },
   "outputs": [
    {
     "name": "stdout",
     "output_type": "stream",
     "text": [
      "   respondent_id  h1n1_concern  h1n1_knowledge  behavioral_antiviral_meds  \\\n",
      "0              0           1.0             0.0                        0.0   \n",
      "1              1           3.0             2.0                        0.0   \n",
      "2              2           1.0             1.0                        0.0   \n",
      "3              3           1.0             1.0                        0.0   \n",
      "4              4           2.0             1.0                        0.0   \n",
      "\n",
      "   behavioral_avoidance  behavioral_face_mask  behavioral_wash_hands  \\\n",
      "0                   0.0                   0.0                    0.0   \n",
      "1                   1.0                   0.0                    1.0   \n",
      "2                   1.0                   0.0                    0.0   \n",
      "3                   1.0                   0.0                    1.0   \n",
      "4                   1.0                   0.0                    1.0   \n",
      "\n",
      "   behavioral_large_gatherings  behavioral_outside_home  \\\n",
      "0                          0.0                      1.0   \n",
      "1                          0.0                      1.0   \n",
      "2                          0.0                      0.0   \n",
      "3                          1.0                      0.0   \n",
      "4                          1.0                      0.0   \n",
      "\n",
      "   behavioral_touch_face  ...             income_poverty  marital_status  \\\n",
      "0                    1.0  ...              Below Poverty     Not Married   \n",
      "1                    1.0  ...              Below Poverty     Not Married   \n",
      "2                    0.0  ...  <= $75,000, Above Poverty     Not Married   \n",
      "3                    0.0  ...              Below Poverty     Not Married   \n",
      "4                    1.0  ...  <= $75,000, Above Poverty         Married   \n",
      "\n",
      "   rent_or_own   employment_status  hhs_geo_region                census_msa  \\\n",
      "0          Own  Not in Labor Force        oxchjgsf                   Non-MSA   \n",
      "1         Rent            Employed        bhuqouqj  MSA, Not Principle  City   \n",
      "2          Own            Employed        qufhixun  MSA, Not Principle  City   \n",
      "3         Rent  Not in Labor Force        lrircsnp       MSA, Principle City   \n",
      "4          Own            Employed        qufhixun  MSA, Not Principle  City   \n",
      "\n",
      "   household_adults  household_children  employment_industry  \\\n",
      "0               0.0                 0.0                  NaN   \n",
      "1               0.0                 0.0             pxcmvdjn   \n",
      "2               2.0                 0.0             rucpziij   \n",
      "3               0.0                 0.0                  NaN   \n",
      "4               1.0                 0.0             wxleyezf   \n",
      "\n",
      "   employment_occupation  \n",
      "0                    NaN  \n",
      "1               xgwztkwe  \n",
      "2               xtkaffoo  \n",
      "3                    NaN  \n",
      "4               emcorrxb  \n",
      "\n",
      "[5 rows x 36 columns]\n"
     ]
    }
   ],
   "source": [
    "train_set_X = pd.read_csv(path_train_X)\n",
    "print(train_set_X.head())"
   ]
  },
  {
   "cell_type": "code",
   "execution_count": 8,
   "metadata": {
    "colab": {
     "base_uri": "https://localhost:8080/",
     "height": 136
    },
    "colab_type": "code",
    "id": "G2R_9ib1hchQ",
    "outputId": "8e9c8844-e5f6-4418-8519-95e4e1b5446c"
   },
   "outputs": [
    {
     "name": "stdout",
     "output_type": "stream",
     "text": [
      "   respondent_id  h1n1_vaccine  seasonal_vaccine\n",
      "0              0             0                 0\n",
      "1              1             0                 1\n",
      "2              2             0                 0\n",
      "3              3             0                 1\n",
      "4              4             0                 0\n",
      "(26707, 3)\n"
     ]
    }
   ],
   "source": [
    "train_set_Y = pd.read_csv(path_train_Y)\n",
    "print(train_set_Y.head())\n",
    "print(train_set_Y.shape)"
   ]
  },
  {
   "cell_type": "code",
   "execution_count": 9,
   "metadata": {
    "colab": {
     "base_uri": "https://localhost:8080/",
     "height": 343
    },
    "colab_type": "code",
    "id": "HrcVv4AGhih5",
    "outputId": "312713df-7883-4f95-c63d-b6b886633c75"
   },
   "outputs": [
    {
     "data": {
      "text/html": [
       "<div>\n",
       "<style scoped>\n",
       "    .dataframe tbody tr th:only-of-type {\n",
       "        vertical-align: middle;\n",
       "    }\n",
       "\n",
       "    .dataframe tbody tr th {\n",
       "        vertical-align: top;\n",
       "    }\n",
       "\n",
       "    .dataframe thead th {\n",
       "        text-align: right;\n",
       "    }\n",
       "</style>\n",
       "<table border=\"1\" class=\"dataframe\">\n",
       "  <thead>\n",
       "    <tr style=\"text-align: right;\">\n",
       "      <th></th>\n",
       "      <th>respondent_id</th>\n",
       "      <th>h1n1_concern</th>\n",
       "      <th>h1n1_knowledge</th>\n",
       "      <th>behavioral_antiviral_meds</th>\n",
       "      <th>behavioral_avoidance</th>\n",
       "      <th>behavioral_face_mask</th>\n",
       "      <th>behavioral_wash_hands</th>\n",
       "      <th>behavioral_large_gatherings</th>\n",
       "      <th>behavioral_outside_home</th>\n",
       "      <th>behavioral_touch_face</th>\n",
       "      <th>...</th>\n",
       "      <th>income_poverty</th>\n",
       "      <th>marital_status</th>\n",
       "      <th>rent_or_own</th>\n",
       "      <th>employment_status</th>\n",
       "      <th>hhs_geo_region</th>\n",
       "      <th>census_msa</th>\n",
       "      <th>household_adults</th>\n",
       "      <th>household_children</th>\n",
       "      <th>employment_industry</th>\n",
       "      <th>employment_occupation</th>\n",
       "    </tr>\n",
       "  </thead>\n",
       "  <tbody>\n",
       "    <tr>\n",
       "      <th>0</th>\n",
       "      <td>26707</td>\n",
       "      <td>2.0</td>\n",
       "      <td>2.0</td>\n",
       "      <td>0.0</td>\n",
       "      <td>1.0</td>\n",
       "      <td>0.0</td>\n",
       "      <td>1.0</td>\n",
       "      <td>1.0</td>\n",
       "      <td>0.0</td>\n",
       "      <td>1.0</td>\n",
       "      <td>...</td>\n",
       "      <td>&gt; $75,000</td>\n",
       "      <td>Not Married</td>\n",
       "      <td>Rent</td>\n",
       "      <td>Employed</td>\n",
       "      <td>mlyzmhmf</td>\n",
       "      <td>MSA, Not Principle  City</td>\n",
       "      <td>1.0</td>\n",
       "      <td>0.0</td>\n",
       "      <td>atmlpfrs</td>\n",
       "      <td>hfxkjkmi</td>\n",
       "    </tr>\n",
       "    <tr>\n",
       "      <th>1</th>\n",
       "      <td>26708</td>\n",
       "      <td>1.0</td>\n",
       "      <td>1.0</td>\n",
       "      <td>0.0</td>\n",
       "      <td>0.0</td>\n",
       "      <td>0.0</td>\n",
       "      <td>0.0</td>\n",
       "      <td>0.0</td>\n",
       "      <td>0.0</td>\n",
       "      <td>0.0</td>\n",
       "      <td>...</td>\n",
       "      <td>Below Poverty</td>\n",
       "      <td>Not Married</td>\n",
       "      <td>Rent</td>\n",
       "      <td>Employed</td>\n",
       "      <td>bhuqouqj</td>\n",
       "      <td>Non-MSA</td>\n",
       "      <td>3.0</td>\n",
       "      <td>0.0</td>\n",
       "      <td>atmlpfrs</td>\n",
       "      <td>xqwwgdyp</td>\n",
       "    </tr>\n",
       "    <tr>\n",
       "      <th>2</th>\n",
       "      <td>26709</td>\n",
       "      <td>2.0</td>\n",
       "      <td>2.0</td>\n",
       "      <td>0.0</td>\n",
       "      <td>0.0</td>\n",
       "      <td>1.0</td>\n",
       "      <td>1.0</td>\n",
       "      <td>1.0</td>\n",
       "      <td>1.0</td>\n",
       "      <td>1.0</td>\n",
       "      <td>...</td>\n",
       "      <td>&gt; $75,000</td>\n",
       "      <td>Married</td>\n",
       "      <td>Own</td>\n",
       "      <td>Employed</td>\n",
       "      <td>lrircsnp</td>\n",
       "      <td>Non-MSA</td>\n",
       "      <td>1.0</td>\n",
       "      <td>0.0</td>\n",
       "      <td>nduyfdeo</td>\n",
       "      <td>pvmttkik</td>\n",
       "    </tr>\n",
       "    <tr>\n",
       "      <th>3</th>\n",
       "      <td>26710</td>\n",
       "      <td>1.0</td>\n",
       "      <td>1.0</td>\n",
       "      <td>0.0</td>\n",
       "      <td>0.0</td>\n",
       "      <td>0.0</td>\n",
       "      <td>0.0</td>\n",
       "      <td>0.0</td>\n",
       "      <td>0.0</td>\n",
       "      <td>0.0</td>\n",
       "      <td>...</td>\n",
       "      <td>&lt;= $75,000, Above Poverty</td>\n",
       "      <td>Married</td>\n",
       "      <td>Own</td>\n",
       "      <td>Not in Labor Force</td>\n",
       "      <td>lrircsnp</td>\n",
       "      <td>MSA, Not Principle  City</td>\n",
       "      <td>1.0</td>\n",
       "      <td>0.0</td>\n",
       "      <td>NaN</td>\n",
       "      <td>NaN</td>\n",
       "    </tr>\n",
       "    <tr>\n",
       "      <th>4</th>\n",
       "      <td>26711</td>\n",
       "      <td>3.0</td>\n",
       "      <td>1.0</td>\n",
       "      <td>1.0</td>\n",
       "      <td>1.0</td>\n",
       "      <td>0.0</td>\n",
       "      <td>1.0</td>\n",
       "      <td>1.0</td>\n",
       "      <td>1.0</td>\n",
       "      <td>1.0</td>\n",
       "      <td>...</td>\n",
       "      <td>&lt;= $75,000, Above Poverty</td>\n",
       "      <td>Not Married</td>\n",
       "      <td>Own</td>\n",
       "      <td>Employed</td>\n",
       "      <td>lzgpxyit</td>\n",
       "      <td>Non-MSA</td>\n",
       "      <td>0.0</td>\n",
       "      <td>1.0</td>\n",
       "      <td>fcxhlnwr</td>\n",
       "      <td>mxkfnird</td>\n",
       "    </tr>\n",
       "  </tbody>\n",
       "</table>\n",
       "<p>5 rows × 36 columns</p>\n",
       "</div>"
      ],
      "text/plain": [
       "   respondent_id  h1n1_concern  h1n1_knowledge  behavioral_antiviral_meds  \\\n",
       "0          26707           2.0             2.0                        0.0   \n",
       "1          26708           1.0             1.0                        0.0   \n",
       "2          26709           2.0             2.0                        0.0   \n",
       "3          26710           1.0             1.0                        0.0   \n",
       "4          26711           3.0             1.0                        1.0   \n",
       "\n",
       "   behavioral_avoidance  behavioral_face_mask  behavioral_wash_hands  \\\n",
       "0                   1.0                   0.0                    1.0   \n",
       "1                   0.0                   0.0                    0.0   \n",
       "2                   0.0                   1.0                    1.0   \n",
       "3                   0.0                   0.0                    0.0   \n",
       "4                   1.0                   0.0                    1.0   \n",
       "\n",
       "   behavioral_large_gatherings  behavioral_outside_home  \\\n",
       "0                          1.0                      0.0   \n",
       "1                          0.0                      0.0   \n",
       "2                          1.0                      1.0   \n",
       "3                          0.0                      0.0   \n",
       "4                          1.0                      1.0   \n",
       "\n",
       "   behavioral_touch_face  ...             income_poverty  marital_status  \\\n",
       "0                    1.0  ...                  > $75,000     Not Married   \n",
       "1                    0.0  ...              Below Poverty     Not Married   \n",
       "2                    1.0  ...                  > $75,000         Married   \n",
       "3                    0.0  ...  <= $75,000, Above Poverty         Married   \n",
       "4                    1.0  ...  <= $75,000, Above Poverty     Not Married   \n",
       "\n",
       "   rent_or_own   employment_status  hhs_geo_region                census_msa  \\\n",
       "0         Rent            Employed        mlyzmhmf  MSA, Not Principle  City   \n",
       "1         Rent            Employed        bhuqouqj                   Non-MSA   \n",
       "2          Own            Employed        lrircsnp                   Non-MSA   \n",
       "3          Own  Not in Labor Force        lrircsnp  MSA, Not Principle  City   \n",
       "4          Own            Employed        lzgpxyit                   Non-MSA   \n",
       "\n",
       "   household_adults  household_children  employment_industry  \\\n",
       "0               1.0                 0.0             atmlpfrs   \n",
       "1               3.0                 0.0             atmlpfrs   \n",
       "2               1.0                 0.0             nduyfdeo   \n",
       "3               1.0                 0.0                  NaN   \n",
       "4               0.0                 1.0             fcxhlnwr   \n",
       "\n",
       "   employment_occupation  \n",
       "0               hfxkjkmi  \n",
       "1               xqwwgdyp  \n",
       "2               pvmttkik  \n",
       "3                    NaN  \n",
       "4               mxkfnird  \n",
       "\n",
       "[5 rows x 36 columns]"
      ]
     },
     "execution_count": 9,
     "metadata": {},
     "output_type": "execute_result"
    }
   ],
   "source": [
    "test_set_X = pd.read_csv(path_test_X)\n",
    "test_set_X.head()"
   ]
  },
  {
   "cell_type": "code",
   "execution_count": 10,
   "metadata": {
    "colab": {
     "base_uri": "https://localhost:8080/",
     "height": 748
    },
    "colab_type": "code",
    "id": "dNZIR6AUhv8V",
    "outputId": "c12eee2f-40a3-46b2-a3f9-3c734fa22e21"
   },
   "outputs": [
    {
     "name": "stdout",
     "output_type": "stream",
     "text": [
      "<class 'pandas.core.frame.DataFrame'>\n",
      "RangeIndex: 26707 entries, 0 to 26706\n",
      "Data columns (total 36 columns):\n",
      "respondent_id                  26707 non-null int64\n",
      "h1n1_concern                   26615 non-null float64\n",
      "h1n1_knowledge                 26591 non-null float64\n",
      "behavioral_antiviral_meds      26636 non-null float64\n",
      "behavioral_avoidance           26499 non-null float64\n",
      "behavioral_face_mask           26688 non-null float64\n",
      "behavioral_wash_hands          26665 non-null float64\n",
      "behavioral_large_gatherings    26620 non-null float64\n",
      "behavioral_outside_home        26625 non-null float64\n",
      "behavioral_touch_face          26579 non-null float64\n",
      "doctor_recc_h1n1               24547 non-null float64\n",
      "doctor_recc_seasonal           24547 non-null float64\n",
      "chronic_med_condition          25736 non-null float64\n",
      "child_under_6_months           25887 non-null float64\n",
      "health_worker                  25903 non-null float64\n",
      "health_insurance               14433 non-null float64\n",
      "opinion_h1n1_vacc_effective    26316 non-null float64\n",
      "opinion_h1n1_risk              26319 non-null float64\n",
      "opinion_h1n1_sick_from_vacc    26312 non-null float64\n",
      "opinion_seas_vacc_effective    26245 non-null float64\n",
      "opinion_seas_risk              26193 non-null float64\n",
      "opinion_seas_sick_from_vacc    26170 non-null float64\n",
      "age_group                      26707 non-null object\n",
      "education                      25300 non-null object\n",
      "race                           26707 non-null object\n",
      "sex                            26707 non-null object\n",
      "income_poverty                 22284 non-null object\n",
      "marital_status                 25299 non-null object\n",
      "rent_or_own                    24665 non-null object\n",
      "employment_status              25244 non-null object\n",
      "hhs_geo_region                 26707 non-null object\n",
      "census_msa                     26707 non-null object\n",
      "household_adults               26458 non-null float64\n",
      "household_children             26458 non-null float64\n",
      "employment_industry            13377 non-null object\n",
      "employment_occupation          13237 non-null object\n",
      "dtypes: float64(23), int64(1), object(12)\n",
      "memory usage: 7.3+ MB\n"
     ]
    }
   ],
   "source": [
    "train_set_X.info()"
   ]
  },
  {
   "cell_type": "code",
   "execution_count": 11,
   "metadata": {
    "colab": {
     "base_uri": "https://localhost:8080/",
     "height": 748
    },
    "colab_type": "code",
    "id": "d47wbyArh1w2",
    "outputId": "90633ad6-e0cd-4626-ee8b-a5689951f369"
   },
   "outputs": [
    {
     "name": "stdout",
     "output_type": "stream",
     "text": [
      "<class 'pandas.core.frame.DataFrame'>\n",
      "RangeIndex: 26708 entries, 0 to 26707\n",
      "Data columns (total 36 columns):\n",
      "respondent_id                  26708 non-null int64\n",
      "h1n1_concern                   26623 non-null float64\n",
      "h1n1_knowledge                 26586 non-null float64\n",
      "behavioral_antiviral_meds      26629 non-null float64\n",
      "behavioral_avoidance           26495 non-null float64\n",
      "behavioral_face_mask           26689 non-null float64\n",
      "behavioral_wash_hands          26668 non-null float64\n",
      "behavioral_large_gatherings    26636 non-null float64\n",
      "behavioral_outside_home        26626 non-null float64\n",
      "behavioral_touch_face          26580 non-null float64\n",
      "doctor_recc_h1n1               24548 non-null float64\n",
      "doctor_recc_seasonal           24548 non-null float64\n",
      "chronic_med_condition          25776 non-null float64\n",
      "child_under_6_months           25895 non-null float64\n",
      "health_worker                  25919 non-null float64\n",
      "health_insurance               14480 non-null float64\n",
      "opinion_h1n1_vacc_effective    26310 non-null float64\n",
      "opinion_h1n1_risk              26328 non-null float64\n",
      "opinion_h1n1_sick_from_vacc    26333 non-null float64\n",
      "opinion_seas_vacc_effective    26256 non-null float64\n",
      "opinion_seas_risk              26209 non-null float64\n",
      "opinion_seas_sick_from_vacc    26187 non-null float64\n",
      "age_group                      26708 non-null object\n",
      "education                      25301 non-null object\n",
      "race                           26708 non-null object\n",
      "sex                            26708 non-null object\n",
      "income_poverty                 22211 non-null object\n",
      "marital_status                 25266 non-null object\n",
      "rent_or_own                    24672 non-null object\n",
      "employment_status              25237 non-null object\n",
      "hhs_geo_region                 26708 non-null object\n",
      "census_msa                     26708 non-null object\n",
      "household_adults               26483 non-null float64\n",
      "household_children             26483 non-null float64\n",
      "employment_industry            13433 non-null object\n",
      "employment_occupation          13282 non-null object\n",
      "dtypes: float64(23), int64(1), object(12)\n",
      "memory usage: 7.3+ MB\n"
     ]
    }
   ],
   "source": [
    "test_set_X.info()"
   ]
  },
  {
   "cell_type": "markdown",
   "metadata": {
    "colab_type": "text",
    "id": "BcAi96cmkqKs"
   },
   "source": [
    "## Merging the two datasets"
   ]
  },
  {
   "cell_type": "code",
   "execution_count": 12,
   "metadata": {
    "colab": {
     "base_uri": "https://localhost:8080/",
     "height": 153
    },
    "colab_type": "code",
    "id": "KBHZUNBZku0q",
    "outputId": "8e7f462e-0903-43c6-b652-f1030b56b188"
   },
   "outputs": [
    {
     "name": "stdout",
     "output_type": "stream",
     "text": [
      "  respondent_id  h1n1_concern  h1n1_knowledge  behavioral_antiviral_meds  \\\n",
      "0             0           1.0             0.0                        0.0   \n",
      "1             1           3.0             2.0                        0.0   \n",
      "2             2           1.0             1.0                        0.0   \n",
      "3             3           1.0             1.0                        0.0   \n",
      "4             4           2.0             1.0                        0.0   \n",
      "\n",
      "   behavioral_avoidance  behavioral_face_mask  behavioral_wash_hands  \\\n",
      "0                   0.0                   0.0                    0.0   \n",
      "1                   1.0                   0.0                    1.0   \n",
      "2                   1.0                   0.0                    0.0   \n",
      "3                   1.0                   0.0                    1.0   \n",
      "4                   1.0                   0.0                    1.0   \n",
      "\n",
      "   behavioral_large_gatherings  behavioral_outside_home  \\\n",
      "0                          0.0                      1.0   \n",
      "1                          0.0                      1.0   \n",
      "2                          0.0                      0.0   \n",
      "3                          1.0                      0.0   \n",
      "4                          1.0                      0.0   \n",
      "\n",
      "   behavioral_touch_face  ...  rent_or_own   employment_status  \\\n",
      "0                    1.0  ...          Own  Not in Labor Force   \n",
      "1                    1.0  ...         Rent            Employed   \n",
      "2                    0.0  ...          Own            Employed   \n",
      "3                    0.0  ...         Rent  Not in Labor Force   \n",
      "4                    1.0  ...          Own            Employed   \n",
      "\n",
      "   hhs_geo_region                census_msa  household_adults  \\\n",
      "0        oxchjgsf                   Non-MSA               0.0   \n",
      "1        bhuqouqj  MSA, Not Principle  City               0.0   \n",
      "2        qufhixun  MSA, Not Principle  City               2.0   \n",
      "3        lrircsnp       MSA, Principle City               0.0   \n",
      "4        qufhixun  MSA, Not Principle  City               1.0   \n",
      "\n",
      "   household_children  employment_industry  employment_occupation  \\\n",
      "0                 0.0                  NaN                    NaN   \n",
      "1                 0.0             pxcmvdjn               xgwztkwe   \n",
      "2                 0.0             rucpziij               xtkaffoo   \n",
      "3                 0.0                  NaN                    NaN   \n",
      "4                 0.0             wxleyezf               emcorrxb   \n",
      "\n",
      "   h1n1_vaccine  seasonal_vaccine  \n",
      "0             0                 0  \n",
      "1             0                 1  \n",
      "2             0                 0  \n",
      "3             0                 1  \n",
      "4             0                 0  \n",
      "\n",
      "[5 rows x 38 columns]\n"
     ]
    }
   ],
   "source": [
    "train_set = pd.DataFrame(pd.concat((train_set_X,train_set_Y[['h1n1_vaccine' , 'seasonal_vaccine']]),axis=1))\n",
    "train_set['respondent_id'] = train_set['respondent_id'].astype(str)\n",
    "test_set_X['respondent_id'] = test_set_X['respondent_id'].astype(str)\n",
    "print(train_set.head())\n"
   ]
  },
  {
   "cell_type": "markdown",
   "metadata": {
    "colab_type": "text",
    "id": "RP1qhovvkZcW"
   },
   "source": [
    "## Imputing number columns"
   ]
  },
  {
   "cell_type": "code",
   "execution_count": null,
   "metadata": {
    "colab": {},
    "colab_type": "code",
    "id": "NeSGe7T9meqb"
   },
   "outputs": [],
   "source": [
    "train_set_number = train_set.select_dtypes(exclude='object')\n",
    "test_set_number = test_set_X.select_dtypes(exclude='object')"
   ]
  },
  {
   "cell_type": "code",
   "execution_count": null,
   "metadata": {
    "colab": {},
    "colab_type": "code",
    "id": "tNe1hFbTkVaM"
   },
   "outputs": [],
   "source": [
    "imp = SimpleImputer(missing_values=np.nan, strategy='most_frequent')\n",
    "train_set = pd.DataFrame(imp.fit_transform(train_set))"
   ]
  },
  {
   "cell_type": "code",
   "execution_count": null,
   "metadata": {
    "colab": {
     "base_uri": "https://localhost:8080/",
     "height": 1000
    },
    "colab_type": "code",
    "id": "3KyK3Atb869B",
    "outputId": "c7af1c89-531d-4a93-cc52-cd0c44cf177f"
   },
   "outputs": [],
   "source": [
    "train_set.info(),test_set_X.info()"
   ]
  },
  {
   "cell_type": "markdown",
   "metadata": {
    "colab_type": "text",
    "id": "pK7OHxPc9l7e"
   },
   "source": [
    "## Dealing with non numerical data"
   ]
  },
  {
   "cell_type": "markdown",
   "metadata": {
    "colab_type": "text",
    "id": "p1rAUBED-tKs"
   },
   "source": [
    "#### Droping columns with too many data missing"
   ]
  },
  {
   "cell_type": "code",
   "execution_count": null,
   "metadata": {
    "colab": {
     "base_uri": "https://localhost:8080/",
     "height": 34
    },
    "colab_type": "code",
    "id": "dAUjpSFd9G4V",
    "outputId": "0fa256a9-d67f-4276-b1b0-4b7735ec6042"
   },
   "outputs": [],
   "source": [
    "sums = train_set.isna().sum()\n",
    "length = train_set.shape[0]\n",
    "to_drop = sums[sums > 0.49 * length].keys()\n",
    "print(to_drop)"
   ]
  },
  {
   "cell_type": "code",
   "execution_count": null,
   "metadata": {
    "colab": {},
    "colab_type": "code",
    "id": "DZKndT229rFn"
   },
   "outputs": [],
   "source": [
    "train_set = train_set.drop(columns=list(to_drop))\n",
    "test_set_X = test_set_X.drop(columns=list(to_drop))"
   ]
  },
  {
   "cell_type": "code",
   "execution_count": null,
   "metadata": {
    "colab": {
     "base_uri": "https://localhost:8080/",
     "height": 34
    },
    "colab_type": "code",
    "id": "NnG4EiC6-i9c",
    "outputId": "b2890bb9-c481-4658-d0ec-48feb4651ff4"
   },
   "outputs": [],
   "source": [
    "train_set.shape,test_set_X.shape"
   ]
  },
  {
   "cell_type": "code",
   "execution_count": null,
   "metadata": {
    "colab": {
     "base_uri": "https://localhost:8080/",
     "height": 408
    },
    "colab_type": "code",
    "id": "BHlljmQn-6mN",
    "outputId": "120e6bde-9ad0-4881-e61d-4e822109093f"
   },
   "outputs": [],
   "source": [
    "train_set.select_dtypes('object').isna().sum() ,test_set_X.select_dtypes('object').isna().sum() "
   ]
  },
  {
   "cell_type": "markdown",
   "metadata": {
    "colab_type": "text",
    "id": "xGRtyaT6-1hx"
   },
   "source": [
    "#### Keeping the others and imputing them:"
   ]
  },
  {
   "cell_type": "code",
   "execution_count": null,
   "metadata": {
    "colab": {
     "base_uri": "https://localhost:8080/",
     "height": 102
    },
    "colab_type": "code",
    "id": "TWB8Q4_1-4s6",
    "outputId": "21f32593-8b92-4e8b-c2ad-c0369c8970d2"
   },
   "outputs": [],
   "source": [
    "sums = train_set.select_dtypes('object').isna().sum() \n",
    "cols = list(sums[sums > 0].keys())\n",
    "cols"
   ]
  },
  {
   "cell_type": "code",
   "execution_count": null,
   "metadata": {
    "colab": {
     "base_uri": "https://localhost:8080/",
     "height": 34
    },
    "colab_type": "code",
    "id": "G-TeWWl2_YqO",
    "outputId": "aa115aee-167b-4dde-97d4-e3be86f18899"
   },
   "outputs": [],
   "source": [
    "train_set.dropna().shape"
   ]
  },
  {
   "cell_type": "code",
   "execution_count": null,
   "metadata": {
    "colab": {},
    "colab_type": "code",
    "id": "LJ8FM5FW_eDu"
   },
   "outputs": [],
   "source": [
    "df = train_set.dropna()"
   ]
  },
  {
   "cell_type": "code",
   "execution_count": null,
   "metadata": {
    "colab": {
     "base_uri": "https://localhost:8080/",
     "height": 85
    },
    "colab_type": "code",
    "id": "K1Wps6-WBf9O",
    "outputId": "2e8d0e5b-6a06-4a75-a5cb-9cbd1a3bda43"
   },
   "outputs": [],
   "source": [
    "df['employment_status'].value_counts()"
   ]
  },
  {
   "cell_type": "markdown",
   "metadata": {
    "colab_type": "text",
    "id": "LYdDinBCKawy"
   },
   "source": [
    "## Splitting into X and Y and train and valid for h1n1"
   ]
  },
  {
   "cell_type": "code",
   "execution_count": null,
   "metadata": {
    "colab": {
     "base_uri": "https://localhost:8080/",
     "height": 375
    },
    "colab_type": "code",
    "id": "F6oqvPx3Jdyn",
    "outputId": "ef7239d0-227e-46a8-bf97-6fbe3e87aa53"
   },
   "outputs": [],
   "source": [
    "X = df.drop(columns=['h1n1_vaccine' ,'respondent_id' , 'seasonal_vaccine'])\n",
    "col_to_keep = [col for col in list(X.columns)]\n",
    "X = pd.get_dummies(X, columns=col_to_keep)\n",
    "test_X = pd.get_dummies(test_set_X.drop(columns=['respondent_id']),prefix='C',columns=col_to_keep)\n",
    "Y_h1n1 = df[['h1n1_vaccine' ]]\n",
    "Y_seasonal = df[['seasonal_vaccine']]\n",
    "print(X.head())\n",
    "print(Y.head())\n",
    "len(test_X.columns),len(X.columns)"
   ]
  },
  {
   "cell_type": "code",
   "execution_count": null,
   "metadata": {
    "colab": {
     "base_uri": "https://localhost:8080/",
     "height": 204
    },
    "colab_type": "code",
    "id": "cwAM06tHY1SM",
    "outputId": "762f8b5a-cd38-4180-e9a2-485b13d12326"
   },
   "outputs": [],
   "source": [
    "X.columns"
   ]
  },
  {
   "cell_type": "code",
   "execution_count": null,
   "metadata": {
    "colab": {},
    "colab_type": "code",
    "id": "9i2v4N7fLIQP"
   },
   "outputs": [],
   "source": [
    "X_train,X_valid,Y_train_h1n1,Y_valid_h1n1 = train_test_split(X,Y_h1n1,test_size=0.1,random_state=101,stratify=Y_h1n1.values)"
   ]
  },
  {
   "cell_type": "code",
   "execution_count": null,
   "metadata": {
    "colab": {
     "base_uri": "https://localhost:8080/",
     "height": 204
    },
    "colab_type": "code",
    "id": "9z7K1Z_rM66J",
    "outputId": "cd8767c3-4c8b-4772-f4a3-059bf72b5cd4"
   },
   "outputs": [],
   "source": [
    "Y_train_h1n1.head()"
   ]
  },
  {
   "cell_type": "markdown",
   "metadata": {
    "colab_type": "text",
    "id": "kFyrwTO1OOgI"
   },
   "source": [
    "## Training a logistic regression on this model"
   ]
  },
  {
   "cell_type": "code",
   "execution_count": null,
   "metadata": {
    "colab": {
     "base_uri": "https://localhost:8080/",
     "height": 34
    },
    "colab_type": "code",
    "id": "191iJgJCNWVn",
    "outputId": "cc3dd0ee-0227-496b-b6a9-2be1ae55e139"
   },
   "outputs": [],
   "source": [
    "logreg = LogisticRegression(random_state=101,max_iter=400)\n",
    "logreg.fit(X_train,Y_train_h1n1.to_numpy().ravel())\n",
    "logreg.score(X_train,Y_train_h1n1)*100,logreg.score(X_valid,Y_valid_h1n1)*100"
   ]
  },
  {
   "cell_type": "code",
   "execution_count": null,
   "metadata": {
    "colab": {
     "base_uri": "https://localhost:8080/",
     "height": 34
    },
    "colab_type": "code",
    "id": "ZtFWlPjNWFbq",
    "outputId": "d141e213-b52c-49b0-ad50-04cc5ed2a451"
   },
   "outputs": [],
   "source": [
    "test_Y = logreg.predict(test_X)\n",
    "test_Y[:10]"
   ]
  },
  {
   "cell_type": "markdown",
   "metadata": {
    "colab_type": "text",
    "id": "mOhDXfihTpMh"
   },
   "source": [
    "## Keeping only important features for h1n1"
   ]
  },
  {
   "cell_type": "code",
   "execution_count": null,
   "metadata": {
    "colab": {
     "base_uri": "https://localhost:8080/",
     "height": 391
    },
    "colab_type": "code",
    "id": "m9bQwxVFbTrF",
    "outputId": "8ff6fadd-00e0-4f7c-a2aa-ceafa9a9c2d4"
   },
   "outputs": [],
   "source": [
    "logreg.coef_"
   ]
  },
  {
   "cell_type": "code",
   "execution_count": null,
   "metadata": {
    "colab": {},
    "colab_type": "code",
    "id": "3tG0iQj-PDkv"
   },
   "outputs": [],
   "source": [
    "mask = (abs(logreg.coef_) > 0.05).ravel().reshape(-1,1)\n",
    "cols_h1n1 = np.array(X_train.columns).reshape(-1,1)[mask]"
   ]
  },
  {
   "cell_type": "code",
   "execution_count": null,
   "metadata": {
    "colab": {
     "base_uri": "https://localhost:8080/",
     "height": 629
    },
    "colab_type": "code",
    "id": "g1jgjsKCPFRu",
    "outputId": "197936d9-d17d-4857-df68-9f8437a13b25"
   },
   "outputs": [],
   "source": [
    "X_train_engineered = X_train.loc[:,cols_h1n1]\n",
    "X_valid_engineered = X_valid.loc[:,cols_h1n1]\n",
    "X_train_engineered.columns"
   ]
  },
  {
   "cell_type": "code",
   "execution_count": null,
   "metadata": {
    "colab": {
     "base_uri": "https://localhost:8080/",
     "height": 51
    },
    "colab_type": "code",
    "id": "3W_oloApQmKh",
    "outputId": "668c5292-9c58-4a27-8c92-c103718057b2"
   },
   "outputs": [],
   "source": [
    "logreg2 = LogisticRegression(max_iter=400)\n",
    "logreg2.fit(X_train_engineered,Y_train_h1n1.to_numpy().ravel())\n",
    "print(logreg2.score(X_train_engineered,Y_train_h1n1)*100)\n",
    "print(logreg2.score(X_valid_engineered,Y_valid_h1n1)*100)"
   ]
  },
  {
   "cell_type": "code",
   "execution_count": null,
   "metadata": {
    "colab": {
     "base_uri": "https://localhost:8080/",
     "height": 490
    },
    "colab_type": "code",
    "id": "sttYVTBbTKl_",
    "outputId": "9781971b-f976-4339-9544-a64d09e0a0c1"
   },
   "outputs": [],
   "source": [
    "test_X[cols_h1n1]"
   ]
  },
  {
   "cell_type": "markdown",
   "metadata": {
    "colab_type": "text",
    "id": "PklXFAmqcauh"
   },
   "source": [
    "## Trying a more compilcated model"
   ]
  },
  {
   "cell_type": "code",
   "execution_count": null,
   "metadata": {
    "colab": {
     "base_uri": "https://localhost:8080/",
     "height": 34
    },
    "colab_type": "code",
    "id": "acBmY0J1bLnV",
    "outputId": "4cf9a6bd-a1e1-4bb1-df4c-0c21be0a11e5"
   },
   "outputs": [],
   "source": [
    "linsvc = LinearSVC(random_state=101,max_iter=1500)\n",
    "linsvc.fit(X_train,Y_train_h1n1.to_numpy().ravel())\n",
    "linsvc.score(X_train,Y_train_h1n1)*100,linsvc.score(X_valid,Y_valid_h1n1)*100"
   ]
  },
  {
   "cell_type": "code",
   "execution_count": null,
   "metadata": {
    "colab": {
     "base_uri": "https://localhost:8080/",
     "height": 88
    },
    "colab_type": "code",
    "id": "0PazKogTdK3f",
    "outputId": "a30b2716-60b5-419d-e2c8-82c7fe098e14"
   },
   "outputs": [],
   "source": [
    "svc = SVC(random_state=101,max_iter=1500,kernel='rbf')\n",
    "svc.fit(X_train,Y_train_h1n1.to_numpy().ravel())\n",
    "svc.score(X_train,Y_train_h1n1)*100,svc.score(X_valid,Y_valid_h1n1)*100"
   ]
  },
  {
   "cell_type": "code",
   "execution_count": null,
   "metadata": {
    "colab": {
     "base_uri": "https://localhost:8080/",
     "height": 34
    },
    "colab_type": "code",
    "id": "LdBOk5TidZyO",
    "outputId": "4ee01b57-622c-49e3-bc21-4230b6bf1ca6"
   },
   "outputs": [],
   "source": [
    "rfc = RandomForestClassifier(random_state=101,n_estimators=600)\n",
    "rfc.fit(X_train,Y_train_h1n1.to_numpy().ravel())\n",
    "rfc.score(X_train,Y_train_h1n1)*100,rfc.score(X_valid,Y_valid_h1n1)*100"
   ]
  },
  {
   "cell_type": "code",
   "execution_count": null,
   "metadata": {
    "colab": {
     "base_uri": "https://localhost:8080/",
     "height": 34
    },
    "colab_type": "code",
    "id": "8uZN616gfZOo",
    "outputId": "ef32f209-a33b-4f26-fb79-dd347e571a71"
   },
   "outputs": [],
   "source": [
    "f1_score(logreg.predict(X_train),Y_train_h1n1)"
   ]
  },
  {
   "cell_type": "code",
   "execution_count": null,
   "metadata": {
    "colab": {
     "base_uri": "https://localhost:8080/",
     "height": 164
    },
    "colab_type": "code",
    "id": "ObbHBzjyfbB2",
    "outputId": "52341645-dcb8-4d94-e9bf-b6244f10241c"
   },
   "outputs": [],
   "source": []
  },
  {
   "cell_type": "code",
   "execution_count": null,
   "metadata": {
    "colab": {},
    "colab_type": "code",
    "id": "H_f-jI4nirH_"
   },
   "outputs": [],
   "source": []
  }
 ],
 "metadata": {
  "colab": {
   "name": "vaccinaton_challenge_preprocessing.ipynb",
   "provenance": [],
   "toc_visible": true
  },
  "kernelspec": {
   "display_name": "Python 3",
   "language": "python",
   "name": "python3"
  },
  "language_info": {
   "codemirror_mode": {
    "name": "ipython",
    "version": 3
   },
   "file_extension": ".py",
   "mimetype": "text/x-python",
   "name": "python",
   "nbconvert_exporter": "python",
   "pygments_lexer": "ipython3",
   "version": "3.7.3"
  }
 },
 "nbformat": 4,
 "nbformat_minor": 1
}
