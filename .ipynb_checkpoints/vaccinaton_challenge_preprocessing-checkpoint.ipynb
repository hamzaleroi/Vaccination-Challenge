{
 "cells": [
  {
   "cell_type": "code",
   "execution_count": 1,
   "metadata": {
    "colab": {
     "base_uri": "https://localhost:8080/",
     "height": 765
    },
    "colab_type": "code",
    "id": "pfVats5LgdYK",
    "outputId": "613ea4ea-84eb-43bc-b8e2-ff6ba178ec63"
   },
   "outputs": [
    {
     "name": "stderr",
     "output_type": "stream",
     "text": [
      "'wget' is not recognized as an internal or external command,\n",
      "operable program or batch file.\n",
      "'wget' is not recognized as an internal or external command,\n",
      "operable program or batch file.\n",
      "'wget' is not recognized as an internal or external command,\n",
      "operable program or batch file.\n",
      "'wget' is not recognized as an internal or external command,\n",
      "operable program or batch file.\n"
     ]
    }
   ],
   "source": [
    "!wget https://s3.amazonaws.com/drivendata-prod/data/66/public/training_set_features.csv\n",
    "!wget https://s3.amazonaws.com/drivendata-prod/data/66/public/submission_format.csv\n",
    "!wget https://s3.amazonaws.com/drivendata-prod/data/66/public/training_set_labels.csv\n",
    "!wget https://s3.amazonaws.com/drivendata-prod/data/66/public/test_set_features.csv"
   ]
  },
  {
   "cell_type": "markdown",
   "metadata": {
    "colab_type": "text",
    "id": "PJ13XLOHNFSr"
   },
   "source": [
    "## Importing the needed libraries"
   ]
  },
  {
   "cell_type": "code",
   "execution_count": null,
   "metadata": {
    "colab": {},
    "colab_type": "code",
    "id": "3BRvOUI4gos3"
   },
   "outputs": [],
   "source": [
    "import pandas as pd\n",
    "import numpy as np\n",
    "import matplotlib.pyplot as plt\n",
    "import seaborn as sns\n",
    "from sklearn.model_selection import train_test_split\n",
    "from sklearn.linear_model import LogisticRegression\n",
    "from sklearn.svm import LinearSVC,SVC\n",
    "from sklearn.ensemble import RandomForestClassifier\n",
    "from sklearn.model_selection import GridSearchCV\n",
    "from sklearn.metrics import  f1_score\n",
    "from sklearn.impute import SimpleImputer\n",
    "\n",
    "\n",
    "\n",
    "%matplotlib inline\n"
   ]
  },
  {
   "cell_type": "markdown",
   "metadata": {
    "colab_type": "text",
    "id": "HxPH8xyRNHit"
   },
   "source": [
    "## Importing data"
   ]
  },
  {
   "cell_type": "code",
   "execution_count": null,
   "metadata": {
    "colab": {},
    "colab_type": "code",
    "id": "f-2UOwLRhEqw"
   },
   "outputs": [],
   "source": [
    "path_train_X='/content/training_set_features.csv'\n",
    "path_train_Y='/content/training_set_labels.csv'\n",
    "path_test_X='/content/test_set_features.csv'"
   ]
  },
  {
   "cell_type": "code",
   "execution_count": null,
   "metadata": {
    "colab": {
     "base_uri": "https://localhost:8080/",
     "height": 153
    },
    "colab_type": "code",
    "id": "hFGdEiZIhXAZ",
    "outputId": "43bce4a8-65bf-4446-9eb1-bc7a4236d5be"
   },
   "outputs": [
    {
     "name": "stdout",
     "output_type": "stream",
     "text": [
      "   respondent_id  h1n1_concern  ...  employment_industry  employment_occupation\n",
      "0              0           1.0  ...                  NaN                    NaN\n",
      "1              1           3.0  ...             pxcmvdjn               xgwztkwe\n",
      "2              2           1.0  ...             rucpziij               xtkaffoo\n",
      "3              3           1.0  ...                  NaN                    NaN\n",
      "4              4           2.0  ...             wxleyezf               emcorrxb\n",
      "\n",
      "[5 rows x 36 columns]\n"
     ]
    }
   ],
   "source": [
    "train_set_X = pd.read_csv(path_train_X)\n",
    "print(train_set_X.head())"
   ]
  },
  {
   "cell_type": "code",
   "execution_count": null,
   "metadata": {
    "colab": {
     "base_uri": "https://localhost:8080/",
     "height": 136
    },
    "colab_type": "code",
    "id": "G2R_9ib1hchQ",
    "outputId": "8e9c8844-e5f6-4418-8519-95e4e1b5446c"
   },
   "outputs": [
    {
     "name": "stdout",
     "output_type": "stream",
     "text": [
      "   respondent_id  h1n1_vaccine  seasonal_vaccine\n",
      "0              0             0                 0\n",
      "1              1             0                 1\n",
      "2              2             0                 0\n",
      "3              3             0                 1\n",
      "4              4             0                 0\n",
      "(26707, 3)\n"
     ]
    }
   ],
   "source": [
    "train_set_Y = pd.read_csv(path_train_Y)\n",
    "print(train_set_Y.head())\n",
    "print(train_set_Y.shape)"
   ]
  },
  {
   "cell_type": "code",
   "execution_count": null,
   "metadata": {
    "colab": {
     "base_uri": "https://localhost:8080/",
     "height": 343
    },
    "colab_type": "code",
    "id": "HrcVv4AGhih5",
    "outputId": "312713df-7883-4f95-c63d-b6b886633c75"
   },
   "outputs": [
    {
     "data": {
      "text/html": [
       "<div>\n",
       "<style scoped>\n",
       "    .dataframe tbody tr th:only-of-type {\n",
       "        vertical-align: middle;\n",
       "    }\n",
       "\n",
       "    .dataframe tbody tr th {\n",
       "        vertical-align: top;\n",
       "    }\n",
       "\n",
       "    .dataframe thead th {\n",
       "        text-align: right;\n",
       "    }\n",
       "</style>\n",
       "<table border=\"1\" class=\"dataframe\">\n",
       "  <thead>\n",
       "    <tr style=\"text-align: right;\">\n",
       "      <th></th>\n",
       "      <th>respondent_id</th>\n",
       "      <th>h1n1_concern</th>\n",
       "      <th>h1n1_knowledge</th>\n",
       "      <th>behavioral_antiviral_meds</th>\n",
       "      <th>behavioral_avoidance</th>\n",
       "      <th>behavioral_face_mask</th>\n",
       "      <th>behavioral_wash_hands</th>\n",
       "      <th>behavioral_large_gatherings</th>\n",
       "      <th>behavioral_outside_home</th>\n",
       "      <th>behavioral_touch_face</th>\n",
       "      <th>doctor_recc_h1n1</th>\n",
       "      <th>doctor_recc_seasonal</th>\n",
       "      <th>chronic_med_condition</th>\n",
       "      <th>child_under_6_months</th>\n",
       "      <th>health_worker</th>\n",
       "      <th>health_insurance</th>\n",
       "      <th>opinion_h1n1_vacc_effective</th>\n",
       "      <th>opinion_h1n1_risk</th>\n",
       "      <th>opinion_h1n1_sick_from_vacc</th>\n",
       "      <th>opinion_seas_vacc_effective</th>\n",
       "      <th>opinion_seas_risk</th>\n",
       "      <th>opinion_seas_sick_from_vacc</th>\n",
       "      <th>age_group</th>\n",
       "      <th>education</th>\n",
       "      <th>race</th>\n",
       "      <th>sex</th>\n",
       "      <th>income_poverty</th>\n",
       "      <th>marital_status</th>\n",
       "      <th>rent_or_own</th>\n",
       "      <th>employment_status</th>\n",
       "      <th>hhs_geo_region</th>\n",
       "      <th>census_msa</th>\n",
       "      <th>household_adults</th>\n",
       "      <th>household_children</th>\n",
       "      <th>employment_industry</th>\n",
       "      <th>employment_occupation</th>\n",
       "    </tr>\n",
       "  </thead>\n",
       "  <tbody>\n",
       "    <tr>\n",
       "      <th>0</th>\n",
       "      <td>26707</td>\n",
       "      <td>2.0</td>\n",
       "      <td>2.0</td>\n",
       "      <td>0.0</td>\n",
       "      <td>1.0</td>\n",
       "      <td>0.0</td>\n",
       "      <td>1.0</td>\n",
       "      <td>1.0</td>\n",
       "      <td>0.0</td>\n",
       "      <td>1.0</td>\n",
       "      <td>0.0</td>\n",
       "      <td>0.0</td>\n",
       "      <td>0.0</td>\n",
       "      <td>0.0</td>\n",
       "      <td>0.0</td>\n",
       "      <td>1.0</td>\n",
       "      <td>5.0</td>\n",
       "      <td>1.0</td>\n",
       "      <td>1.0</td>\n",
       "      <td>5.0</td>\n",
       "      <td>1.0</td>\n",
       "      <td>1.0</td>\n",
       "      <td>35 - 44 Years</td>\n",
       "      <td>College Graduate</td>\n",
       "      <td>Hispanic</td>\n",
       "      <td>Female</td>\n",
       "      <td>&gt; $75,000</td>\n",
       "      <td>Not Married</td>\n",
       "      <td>Rent</td>\n",
       "      <td>Employed</td>\n",
       "      <td>mlyzmhmf</td>\n",
       "      <td>MSA, Not Principle  City</td>\n",
       "      <td>1.0</td>\n",
       "      <td>0.0</td>\n",
       "      <td>atmlpfrs</td>\n",
       "      <td>hfxkjkmi</td>\n",
       "    </tr>\n",
       "    <tr>\n",
       "      <th>1</th>\n",
       "      <td>26708</td>\n",
       "      <td>1.0</td>\n",
       "      <td>1.0</td>\n",
       "      <td>0.0</td>\n",
       "      <td>0.0</td>\n",
       "      <td>0.0</td>\n",
       "      <td>0.0</td>\n",
       "      <td>0.0</td>\n",
       "      <td>0.0</td>\n",
       "      <td>0.0</td>\n",
       "      <td>0.0</td>\n",
       "      <td>0.0</td>\n",
       "      <td>0.0</td>\n",
       "      <td>0.0</td>\n",
       "      <td>0.0</td>\n",
       "      <td>0.0</td>\n",
       "      <td>4.0</td>\n",
       "      <td>1.0</td>\n",
       "      <td>1.0</td>\n",
       "      <td>4.0</td>\n",
       "      <td>1.0</td>\n",
       "      <td>1.0</td>\n",
       "      <td>18 - 34 Years</td>\n",
       "      <td>12 Years</td>\n",
       "      <td>White</td>\n",
       "      <td>Male</td>\n",
       "      <td>Below Poverty</td>\n",
       "      <td>Not Married</td>\n",
       "      <td>Rent</td>\n",
       "      <td>Employed</td>\n",
       "      <td>bhuqouqj</td>\n",
       "      <td>Non-MSA</td>\n",
       "      <td>3.0</td>\n",
       "      <td>0.0</td>\n",
       "      <td>atmlpfrs</td>\n",
       "      <td>xqwwgdyp</td>\n",
       "    </tr>\n",
       "    <tr>\n",
       "      <th>2</th>\n",
       "      <td>26709</td>\n",
       "      <td>2.0</td>\n",
       "      <td>2.0</td>\n",
       "      <td>0.0</td>\n",
       "      <td>0.0</td>\n",
       "      <td>1.0</td>\n",
       "      <td>1.0</td>\n",
       "      <td>1.0</td>\n",
       "      <td>1.0</td>\n",
       "      <td>1.0</td>\n",
       "      <td>0.0</td>\n",
       "      <td>0.0</td>\n",
       "      <td>0.0</td>\n",
       "      <td>0.0</td>\n",
       "      <td>0.0</td>\n",
       "      <td>NaN</td>\n",
       "      <td>5.0</td>\n",
       "      <td>4.0</td>\n",
       "      <td>2.0</td>\n",
       "      <td>5.0</td>\n",
       "      <td>4.0</td>\n",
       "      <td>4.0</td>\n",
       "      <td>55 - 64 Years</td>\n",
       "      <td>College Graduate</td>\n",
       "      <td>White</td>\n",
       "      <td>Male</td>\n",
       "      <td>&gt; $75,000</td>\n",
       "      <td>Married</td>\n",
       "      <td>Own</td>\n",
       "      <td>Employed</td>\n",
       "      <td>lrircsnp</td>\n",
       "      <td>Non-MSA</td>\n",
       "      <td>1.0</td>\n",
       "      <td>0.0</td>\n",
       "      <td>nduyfdeo</td>\n",
       "      <td>pvmttkik</td>\n",
       "    </tr>\n",
       "    <tr>\n",
       "      <th>3</th>\n",
       "      <td>26710</td>\n",
       "      <td>1.0</td>\n",
       "      <td>1.0</td>\n",
       "      <td>0.0</td>\n",
       "      <td>0.0</td>\n",
       "      <td>0.0</td>\n",
       "      <td>0.0</td>\n",
       "      <td>0.0</td>\n",
       "      <td>0.0</td>\n",
       "      <td>0.0</td>\n",
       "      <td>1.0</td>\n",
       "      <td>1.0</td>\n",
       "      <td>1.0</td>\n",
       "      <td>0.0</td>\n",
       "      <td>0.0</td>\n",
       "      <td>1.0</td>\n",
       "      <td>4.0</td>\n",
       "      <td>2.0</td>\n",
       "      <td>2.0</td>\n",
       "      <td>4.0</td>\n",
       "      <td>4.0</td>\n",
       "      <td>2.0</td>\n",
       "      <td>65+ Years</td>\n",
       "      <td>12 Years</td>\n",
       "      <td>White</td>\n",
       "      <td>Female</td>\n",
       "      <td>&lt;= $75,000, Above Poverty</td>\n",
       "      <td>Married</td>\n",
       "      <td>Own</td>\n",
       "      <td>Not in Labor Force</td>\n",
       "      <td>lrircsnp</td>\n",
       "      <td>MSA, Not Principle  City</td>\n",
       "      <td>1.0</td>\n",
       "      <td>0.0</td>\n",
       "      <td>NaN</td>\n",
       "      <td>NaN</td>\n",
       "    </tr>\n",
       "    <tr>\n",
       "      <th>4</th>\n",
       "      <td>26711</td>\n",
       "      <td>3.0</td>\n",
       "      <td>1.0</td>\n",
       "      <td>1.0</td>\n",
       "      <td>1.0</td>\n",
       "      <td>0.0</td>\n",
       "      <td>1.0</td>\n",
       "      <td>1.0</td>\n",
       "      <td>1.0</td>\n",
       "      <td>1.0</td>\n",
       "      <td>0.0</td>\n",
       "      <td>0.0</td>\n",
       "      <td>0.0</td>\n",
       "      <td>0.0</td>\n",
       "      <td>1.0</td>\n",
       "      <td>1.0</td>\n",
       "      <td>5.0</td>\n",
       "      <td>2.0</td>\n",
       "      <td>4.0</td>\n",
       "      <td>4.0</td>\n",
       "      <td>4.0</td>\n",
       "      <td>2.0</td>\n",
       "      <td>35 - 44 Years</td>\n",
       "      <td>12 Years</td>\n",
       "      <td>Black</td>\n",
       "      <td>Female</td>\n",
       "      <td>&lt;= $75,000, Above Poverty</td>\n",
       "      <td>Not Married</td>\n",
       "      <td>Own</td>\n",
       "      <td>Employed</td>\n",
       "      <td>lzgpxyit</td>\n",
       "      <td>Non-MSA</td>\n",
       "      <td>0.0</td>\n",
       "      <td>1.0</td>\n",
       "      <td>fcxhlnwr</td>\n",
       "      <td>mxkfnird</td>\n",
       "    </tr>\n",
       "  </tbody>\n",
       "</table>\n",
       "</div>"
      ],
      "text/plain": [
       "   respondent_id  h1n1_concern  ...  employment_industry  employment_occupation\n",
       "0          26707           2.0  ...             atmlpfrs               hfxkjkmi\n",
       "1          26708           1.0  ...             atmlpfrs               xqwwgdyp\n",
       "2          26709           2.0  ...             nduyfdeo               pvmttkik\n",
       "3          26710           1.0  ...                  NaN                    NaN\n",
       "4          26711           3.0  ...             fcxhlnwr               mxkfnird\n",
       "\n",
       "[5 rows x 36 columns]"
      ]
     },
     "execution_count": 6,
     "metadata": {
      "tags": []
     },
     "output_type": "execute_result"
    }
   ],
   "source": [
    "test_set_X = pd.read_csv(path_test_X)\n",
    "test_set_X.head()"
   ]
  },
  {
   "cell_type": "code",
   "execution_count": null,
   "metadata": {
    "colab": {
     "base_uri": "https://localhost:8080/",
     "height": 748
    },
    "colab_type": "code",
    "id": "dNZIR6AUhv8V",
    "outputId": "c12eee2f-40a3-46b2-a3f9-3c734fa22e21"
   },
   "outputs": [
    {
     "name": "stdout",
     "output_type": "stream",
     "text": [
      "<class 'pandas.core.frame.DataFrame'>\n",
      "RangeIndex: 26707 entries, 0 to 26706\n",
      "Data columns (total 36 columns):\n",
      " #   Column                       Non-Null Count  Dtype  \n",
      "---  ------                       --------------  -----  \n",
      " 0   respondent_id                26707 non-null  int64  \n",
      " 1   h1n1_concern                 26615 non-null  float64\n",
      " 2   h1n1_knowledge               26591 non-null  float64\n",
      " 3   behavioral_antiviral_meds    26636 non-null  float64\n",
      " 4   behavioral_avoidance         26499 non-null  float64\n",
      " 5   behavioral_face_mask         26688 non-null  float64\n",
      " 6   behavioral_wash_hands        26665 non-null  float64\n",
      " 7   behavioral_large_gatherings  26620 non-null  float64\n",
      " 8   behavioral_outside_home      26625 non-null  float64\n",
      " 9   behavioral_touch_face        26579 non-null  float64\n",
      " 10  doctor_recc_h1n1             24547 non-null  float64\n",
      " 11  doctor_recc_seasonal         24547 non-null  float64\n",
      " 12  chronic_med_condition        25736 non-null  float64\n",
      " 13  child_under_6_months         25887 non-null  float64\n",
      " 14  health_worker                25903 non-null  float64\n",
      " 15  health_insurance             14433 non-null  float64\n",
      " 16  opinion_h1n1_vacc_effective  26316 non-null  float64\n",
      " 17  opinion_h1n1_risk            26319 non-null  float64\n",
      " 18  opinion_h1n1_sick_from_vacc  26312 non-null  float64\n",
      " 19  opinion_seas_vacc_effective  26245 non-null  float64\n",
      " 20  opinion_seas_risk            26193 non-null  float64\n",
      " 21  opinion_seas_sick_from_vacc  26170 non-null  float64\n",
      " 22  age_group                    26707 non-null  object \n",
      " 23  education                    25300 non-null  object \n",
      " 24  race                         26707 non-null  object \n",
      " 25  sex                          26707 non-null  object \n",
      " 26  income_poverty               22284 non-null  object \n",
      " 27  marital_status               25299 non-null  object \n",
      " 28  rent_or_own                  24665 non-null  object \n",
      " 29  employment_status            25244 non-null  object \n",
      " 30  hhs_geo_region               26707 non-null  object \n",
      " 31  census_msa                   26707 non-null  object \n",
      " 32  household_adults             26458 non-null  float64\n",
      " 33  household_children           26458 non-null  float64\n",
      " 34  employment_industry          13377 non-null  object \n",
      " 35  employment_occupation        13237 non-null  object \n",
      "dtypes: float64(23), int64(1), object(12)\n",
      "memory usage: 7.3+ MB\n"
     ]
    }
   ],
   "source": [
    "train_set_X.info()"
   ]
  },
  {
   "cell_type": "code",
   "execution_count": null,
   "metadata": {
    "colab": {
     "base_uri": "https://localhost:8080/",
     "height": 748
    },
    "colab_type": "code",
    "id": "d47wbyArh1w2",
    "outputId": "90633ad6-e0cd-4626-ee8b-a5689951f369"
   },
   "outputs": [
    {
     "name": "stdout",
     "output_type": "stream",
     "text": [
      "<class 'pandas.core.frame.DataFrame'>\n",
      "RangeIndex: 26708 entries, 0 to 26707\n",
      "Data columns (total 36 columns):\n",
      " #   Column                       Non-Null Count  Dtype  \n",
      "---  ------                       --------------  -----  \n",
      " 0   respondent_id                26708 non-null  int64  \n",
      " 1   h1n1_concern                 26623 non-null  float64\n",
      " 2   h1n1_knowledge               26586 non-null  float64\n",
      " 3   behavioral_antiviral_meds    26629 non-null  float64\n",
      " 4   behavioral_avoidance         26495 non-null  float64\n",
      " 5   behavioral_face_mask         26689 non-null  float64\n",
      " 6   behavioral_wash_hands        26668 non-null  float64\n",
      " 7   behavioral_large_gatherings  26636 non-null  float64\n",
      " 8   behavioral_outside_home      26626 non-null  float64\n",
      " 9   behavioral_touch_face        26580 non-null  float64\n",
      " 10  doctor_recc_h1n1             24548 non-null  float64\n",
      " 11  doctor_recc_seasonal         24548 non-null  float64\n",
      " 12  chronic_med_condition        25776 non-null  float64\n",
      " 13  child_under_6_months         25895 non-null  float64\n",
      " 14  health_worker                25919 non-null  float64\n",
      " 15  health_insurance             14480 non-null  float64\n",
      " 16  opinion_h1n1_vacc_effective  26310 non-null  float64\n",
      " 17  opinion_h1n1_risk            26328 non-null  float64\n",
      " 18  opinion_h1n1_sick_from_vacc  26333 non-null  float64\n",
      " 19  opinion_seas_vacc_effective  26256 non-null  float64\n",
      " 20  opinion_seas_risk            26209 non-null  float64\n",
      " 21  opinion_seas_sick_from_vacc  26187 non-null  float64\n",
      " 22  age_group                    26708 non-null  object \n",
      " 23  education                    25301 non-null  object \n",
      " 24  race                         26708 non-null  object \n",
      " 25  sex                          26708 non-null  object \n",
      " 26  income_poverty               22211 non-null  object \n",
      " 27  marital_status               25266 non-null  object \n",
      " 28  rent_or_own                  24672 non-null  object \n",
      " 29  employment_status            25237 non-null  object \n",
      " 30  hhs_geo_region               26708 non-null  object \n",
      " 31  census_msa                   26708 non-null  object \n",
      " 32  household_adults             26483 non-null  float64\n",
      " 33  household_children           26483 non-null  float64\n",
      " 34  employment_industry          13433 non-null  object \n",
      " 35  employment_occupation        13282 non-null  object \n",
      "dtypes: float64(23), int64(1), object(12)\n",
      "memory usage: 7.3+ MB\n"
     ]
    }
   ],
   "source": [
    "test_set_X.info()"
   ]
  },
  {
   "cell_type": "markdown",
   "metadata": {
    "colab_type": "text",
    "id": "BcAi96cmkqKs"
   },
   "source": [
    "## Merging the two datasets"
   ]
  },
  {
   "cell_type": "code",
   "execution_count": null,
   "metadata": {
    "colab": {
     "base_uri": "https://localhost:8080/",
     "height": 153
    },
    "colab_type": "code",
    "id": "KBHZUNBZku0q",
    "outputId": "8e7f462e-0903-43c6-b652-f1030b56b188"
   },
   "outputs": [
    {
     "name": "stdout",
     "output_type": "stream",
     "text": [
      "  respondent_id  h1n1_concern  ...  h1n1_vaccine  seasonal_vaccine\n",
      "0             0           1.0  ...             0                 0\n",
      "1             1           3.0  ...             0                 1\n",
      "2             2           1.0  ...             0                 0\n",
      "3             3           1.0  ...             0                 1\n",
      "4             4           2.0  ...             0                 0\n",
      "\n",
      "[5 rows x 38 columns]\n"
     ]
    }
   ],
   "source": [
    "train_set = pd.DataFrame(pd.concat((train_set_X,train_set_Y[['h1n1_vaccine' , 'seasonal_vaccine']]),axis=1))\n",
    "train_set['respondent_id'] = train_set['respondent_id'].astype(str)\n",
    "test_set_X['respondent_id'] = test_set_X['respondent_id'].astype(str)\n",
    "print(train_set.head())\n"
   ]
  },
  {
   "cell_type": "markdown",
   "metadata": {
    "colab_type": "text",
    "id": "RP1qhovvkZcW"
   },
   "source": [
    "## Imputing number columns"
   ]
  },
  {
   "cell_type": "code",
   "execution_count": null,
   "metadata": {
    "colab": {},
    "colab_type": "code",
    "id": "NeSGe7T9meqb"
   },
   "outputs": [],
   "source": [
    "train_set_number = train_set.select_dtypes(exclude='object')\n",
    "test_set_number = test_set_X.select_dtypes(exclude='object')"
   ]
  },
  {
   "cell_type": "code",
   "execution_count": null,
   "metadata": {
    "colab": {},
    "colab_type": "code",
    "id": "tNe1hFbTkVaM"
   },
   "outputs": [],
   "source": [
    "imp = SimpleImputer(missing_values=np.nan, strategy='most_frequent')\n",
    "train_set = pd.DataFrame(imp.fit_transform(train_set))"
   ]
  },
  {
   "cell_type": "code",
   "execution_count": null,
   "metadata": {
    "colab": {
     "base_uri": "https://localhost:8080/",
     "height": 1000
    },
    "colab_type": "code",
    "id": "3KyK3Atb869B",
    "outputId": "c7af1c89-531d-4a93-cc52-cd0c44cf177f"
   },
   "outputs": [
    {
     "name": "stdout",
     "output_type": "stream",
     "text": [
      "<class 'pandas.core.frame.DataFrame'>\n",
      "RangeIndex: 26707 entries, 0 to 26706\n",
      "Data columns (total 38 columns):\n",
      " #   Column  Non-Null Count  Dtype \n",
      "---  ------  --------------  ----- \n",
      " 0   0       26707 non-null  object\n",
      " 1   1       26707 non-null  object\n",
      " 2   2       26707 non-null  object\n",
      " 3   3       26707 non-null  object\n",
      " 4   4       26707 non-null  object\n",
      " 5   5       26707 non-null  object\n",
      " 6   6       26707 non-null  object\n",
      " 7   7       26707 non-null  object\n",
      " 8   8       26707 non-null  object\n",
      " 9   9       26707 non-null  object\n",
      " 10  10      26707 non-null  object\n",
      " 11  11      26707 non-null  object\n",
      " 12  12      26707 non-null  object\n",
      " 13  13      26707 non-null  object\n",
      " 14  14      26707 non-null  object\n",
      " 15  15      26707 non-null  object\n",
      " 16  16      26707 non-null  object\n",
      " 17  17      26707 non-null  object\n",
      " 18  18      26707 non-null  object\n",
      " 19  19      26707 non-null  object\n",
      " 20  20      26707 non-null  object\n",
      " 21  21      26707 non-null  object\n",
      " 22  22      26707 non-null  object\n",
      " 23  23      26707 non-null  object\n",
      " 24  24      26707 non-null  object\n",
      " 25  25      26707 non-null  object\n",
      " 26  26      26707 non-null  object\n",
      " 27  27      26707 non-null  object\n",
      " 28  28      26707 non-null  object\n",
      " 29  29      26707 non-null  object\n",
      " 30  30      26707 non-null  object\n",
      " 31  31      26707 non-null  object\n",
      " 32  32      26707 non-null  object\n",
      " 33  33      26707 non-null  object\n",
      " 34  34      26707 non-null  object\n",
      " 35  35      26707 non-null  object\n",
      " 36  36      26707 non-null  object\n",
      " 37  37      26707 non-null  object\n",
      "dtypes: object(38)\n",
      "memory usage: 7.7+ MB\n",
      "<class 'pandas.core.frame.DataFrame'>\n",
      "RangeIndex: 26708 entries, 0 to 26707\n",
      "Data columns (total 34 columns):\n",
      " #   Column                       Non-Null Count  Dtype  \n",
      "---  ------                       --------------  -----  \n",
      " 0   respondent_id                26708 non-null  object \n",
      " 1   h1n1_concern                 26708 non-null  float64\n",
      " 2   h1n1_knowledge               26708 non-null  float64\n",
      " 3   behavioral_antiviral_meds    26708 non-null  float64\n",
      " 4   behavioral_avoidance         26708 non-null  float64\n",
      " 5   behavioral_face_mask         26708 non-null  float64\n",
      " 6   behavioral_wash_hands        26708 non-null  float64\n",
      " 7   behavioral_large_gatherings  26708 non-null  float64\n",
      " 8   behavioral_outside_home      26708 non-null  float64\n",
      " 9   behavioral_touch_face        26708 non-null  float64\n",
      " 10  doctor_recc_h1n1             26708 non-null  float64\n",
      " 11  doctor_recc_seasonal         26708 non-null  float64\n",
      " 12  chronic_med_condition        26708 non-null  float64\n",
      " 13  child_under_6_months         26708 non-null  float64\n",
      " 14  health_worker                26708 non-null  float64\n",
      " 15  health_insurance             26708 non-null  float64\n",
      " 16  opinion_h1n1_vacc_effective  26708 non-null  float64\n",
      " 17  opinion_h1n1_risk            26708 non-null  float64\n",
      " 18  opinion_h1n1_sick_from_vacc  26708 non-null  float64\n",
      " 19  opinion_seas_vacc_effective  26708 non-null  float64\n",
      " 20  opinion_seas_risk            26708 non-null  float64\n",
      " 21  opinion_seas_sick_from_vacc  26708 non-null  float64\n",
      " 22  age_group                    26708 non-null  object \n",
      " 23  education                    25301 non-null  object \n",
      " 24  race                         26708 non-null  object \n",
      " 25  sex                          26708 non-null  object \n",
      " 26  income_poverty               22211 non-null  object \n",
      " 27  marital_status               25266 non-null  object \n",
      " 28  rent_or_own                  24672 non-null  object \n",
      " 29  employment_status            25237 non-null  object \n",
      " 30  hhs_geo_region               26708 non-null  object \n",
      " 31  census_msa                   26708 non-null  object \n",
      " 32  household_adults             26708 non-null  float64\n",
      " 33  household_children           26708 non-null  float64\n",
      "dtypes: float64(23), object(11)\n",
      "memory usage: 6.9+ MB\n"
     ]
    },
    {
     "data": {
      "text/plain": [
       "(None, None)"
      ]
     },
     "execution_count": 314,
     "metadata": {
      "tags": []
     },
     "output_type": "execute_result"
    }
   ],
   "source": [
    "train_set.info(),test_set_X.info()"
   ]
  },
  {
   "cell_type": "markdown",
   "metadata": {
    "colab_type": "text",
    "id": "pK7OHxPc9l7e"
   },
   "source": [
    "## Dealing with non numerical data"
   ]
  },
  {
   "cell_type": "markdown",
   "metadata": {
    "colab_type": "text",
    "id": "p1rAUBED-tKs"
   },
   "source": [
    "#### Droping columns with too many data missing"
   ]
  },
  {
   "cell_type": "code",
   "execution_count": null,
   "metadata": {
    "colab": {
     "base_uri": "https://localhost:8080/",
     "height": 34
    },
    "colab_type": "code",
    "id": "dAUjpSFd9G4V",
    "outputId": "0fa256a9-d67f-4276-b1b0-4b7735ec6042"
   },
   "outputs": [
    {
     "name": "stdout",
     "output_type": "stream",
     "text": [
      "Index([], dtype='object')\n"
     ]
    }
   ],
   "source": [
    "sums = train_set.isna().sum()\n",
    "length = train_set.shape[0]\n",
    "to_drop = sums[sums > 0.49 * length].keys()\n",
    "print(to_drop)"
   ]
  },
  {
   "cell_type": "code",
   "execution_count": null,
   "metadata": {
    "colab": {},
    "colab_type": "code",
    "id": "DZKndT229rFn"
   },
   "outputs": [],
   "source": [
    "train_set = train_set.drop(columns=list(to_drop))\n",
    "test_set_X = test_set_X.drop(columns=list(to_drop))"
   ]
  },
  {
   "cell_type": "code",
   "execution_count": null,
   "metadata": {
    "colab": {
     "base_uri": "https://localhost:8080/",
     "height": 34
    },
    "colab_type": "code",
    "id": "NnG4EiC6-i9c",
    "outputId": "b2890bb9-c481-4658-d0ec-48feb4651ff4"
   },
   "outputs": [
    {
     "data": {
      "text/plain": [
       "((26707, 36), (26708, 34))"
      ]
     },
     "execution_count": 180,
     "metadata": {
      "tags": []
     },
     "output_type": "execute_result"
    }
   ],
   "source": [
    "train_set.shape,test_set_X.shape"
   ]
  },
  {
   "cell_type": "code",
   "execution_count": null,
   "metadata": {
    "colab": {
     "base_uri": "https://localhost:8080/",
     "height": 408
    },
    "colab_type": "code",
    "id": "BHlljmQn-6mN",
    "outputId": "120e6bde-9ad0-4881-e61d-4e822109093f"
   },
   "outputs": [
    {
     "data": {
      "text/plain": [
       "(respondent_id           0\n",
       " age_group               0\n",
       " education            1407\n",
       " race                    0\n",
       " sex                     0\n",
       " income_poverty       4423\n",
       " marital_status       1408\n",
       " rent_or_own          2042\n",
       " employment_status    1463\n",
       " hhs_geo_region          0\n",
       " census_msa              0\n",
       " dtype: int64, respondent_id           0\n",
       " age_group               0\n",
       " education            1407\n",
       " race                    0\n",
       " sex                     0\n",
       " income_poverty       4497\n",
       " marital_status       1442\n",
       " rent_or_own          2036\n",
       " employment_status    1471\n",
       " hhs_geo_region          0\n",
       " census_msa              0\n",
       " dtype: int64)"
      ]
     },
     "execution_count": 181,
     "metadata": {
      "tags": []
     },
     "output_type": "execute_result"
    }
   ],
   "source": [
    "train_set.select_dtypes('object').isna().sum() ,test_set_X.select_dtypes('object').isna().sum() "
   ]
  },
  {
   "cell_type": "markdown",
   "metadata": {
    "colab_type": "text",
    "id": "xGRtyaT6-1hx"
   },
   "source": [
    "#### Keeping the others and imputing them:"
   ]
  },
  {
   "cell_type": "code",
   "execution_count": null,
   "metadata": {
    "colab": {
     "base_uri": "https://localhost:8080/",
     "height": 102
    },
    "colab_type": "code",
    "id": "TWB8Q4_1-4s6",
    "outputId": "21f32593-8b92-4e8b-c2ad-c0369c8970d2"
   },
   "outputs": [
    {
     "data": {
      "text/plain": [
       "['education',\n",
       " 'income_poverty',\n",
       " 'marital_status',\n",
       " 'rent_or_own',\n",
       " 'employment_status']"
      ]
     },
     "execution_count": 182,
     "metadata": {
      "tags": []
     },
     "output_type": "execute_result"
    }
   ],
   "source": [
    "sums = train_set.select_dtypes('object').isna().sum() \n",
    "cols = list(sums[sums > 0].keys())\n",
    "cols"
   ]
  },
  {
   "cell_type": "code",
   "execution_count": null,
   "metadata": {
    "colab": {
     "base_uri": "https://localhost:8080/",
     "height": 34
    },
    "colab_type": "code",
    "id": "G-TeWWl2_YqO",
    "outputId": "aa115aee-167b-4dde-97d4-e3be86f18899"
   },
   "outputs": [
    {
     "data": {
      "text/plain": [
       "(21880, 36)"
      ]
     },
     "execution_count": 183,
     "metadata": {
      "tags": []
     },
     "output_type": "execute_result"
    }
   ],
   "source": [
    "train_set.dropna().shape"
   ]
  },
  {
   "cell_type": "code",
   "execution_count": null,
   "metadata": {
    "colab": {},
    "colab_type": "code",
    "id": "LJ8FM5FW_eDu"
   },
   "outputs": [],
   "source": [
    "df = train_set.dropna()"
   ]
  },
  {
   "cell_type": "code",
   "execution_count": null,
   "metadata": {
    "colab": {
     "base_uri": "https://localhost:8080/",
     "height": 85
    },
    "colab_type": "code",
    "id": "K1Wps6-WBf9O",
    "outputId": "2e8d0e5b-6a06-4a75-a5cb-9cbd1a3bda43"
   },
   "outputs": [
    {
     "data": {
      "text/plain": [
       "Employed              12247\n",
       "Not in Labor Force     8388\n",
       "Unemployed             1245\n",
       "Name: employment_status, dtype: int64"
      ]
     },
     "execution_count": 185,
     "metadata": {
      "tags": []
     },
     "output_type": "execute_result"
    }
   ],
   "source": [
    "df['employment_status'].value_counts()"
   ]
  },
  {
   "cell_type": "markdown",
   "metadata": {
    "colab_type": "text",
    "id": "LYdDinBCKawy"
   },
   "source": [
    "## Splitting into X and Y and train and valid for h1n1"
   ]
  },
  {
   "cell_type": "code",
   "execution_count": null,
   "metadata": {
    "colab": {
     "base_uri": "https://localhost:8080/",
     "height": 375
    },
    "colab_type": "code",
    "id": "F6oqvPx3Jdyn",
    "outputId": "ef7239d0-227e-46a8-bf97-6fbe3e87aa53"
   },
   "outputs": [
    {
     "ename": "KeyError",
     "evalue": "ignored",
     "output_type": "error",
     "traceback": [
      "\u001b[0;31m---------------------------------------------------------------------------\u001b[0m",
      "\u001b[0;31mKeyError\u001b[0m                                  Traceback (most recent call last)",
      "\u001b[0;32m<ipython-input-316-3b8b9fdb678d>\u001b[0m in \u001b[0;36m<module>\u001b[0;34m()\u001b[0m\n\u001b[0;32m----> 1\u001b[0;31m \u001b[0mX\u001b[0m \u001b[0;34m=\u001b[0m \u001b[0mdf\u001b[0m\u001b[0;34m.\u001b[0m\u001b[0mdrop\u001b[0m\u001b[0;34m(\u001b[0m\u001b[0mcolumns\u001b[0m\u001b[0;34m=\u001b[0m\u001b[0;34m[\u001b[0m\u001b[0;34m'h1n1_vaccine'\u001b[0m \u001b[0;34m,\u001b[0m\u001b[0;34m'respondent_id'\u001b[0m \u001b[0;34m,\u001b[0m \u001b[0;34m'seasonal_vaccine'\u001b[0m\u001b[0;34m]\u001b[0m\u001b[0;34m)\u001b[0m\u001b[0;34m\u001b[0m\u001b[0;34m\u001b[0m\u001b[0m\n\u001b[0m\u001b[1;32m      2\u001b[0m \u001b[0mcol_to_keep\u001b[0m \u001b[0;34m=\u001b[0m \u001b[0;34m[\u001b[0m\u001b[0mcol\u001b[0m \u001b[0;32mfor\u001b[0m \u001b[0mcol\u001b[0m \u001b[0;32min\u001b[0m \u001b[0mlist\u001b[0m\u001b[0;34m(\u001b[0m\u001b[0mX\u001b[0m\u001b[0;34m.\u001b[0m\u001b[0mcolumns\u001b[0m\u001b[0;34m)\u001b[0m\u001b[0;34m]\u001b[0m\u001b[0;34m\u001b[0m\u001b[0;34m\u001b[0m\u001b[0m\n\u001b[1;32m      3\u001b[0m \u001b[0mX\u001b[0m \u001b[0;34m=\u001b[0m \u001b[0mpd\u001b[0m\u001b[0;34m.\u001b[0m\u001b[0mget_dummies\u001b[0m\u001b[0;34m(\u001b[0m\u001b[0mX\u001b[0m\u001b[0;34m,\u001b[0m \u001b[0mcolumns\u001b[0m\u001b[0;34m=\u001b[0m\u001b[0mcol_to_keep\u001b[0m\u001b[0;34m)\u001b[0m\u001b[0;34m\u001b[0m\u001b[0;34m\u001b[0m\u001b[0m\n\u001b[1;32m      4\u001b[0m \u001b[0mtest_X\u001b[0m \u001b[0;34m=\u001b[0m \u001b[0mpd\u001b[0m\u001b[0;34m.\u001b[0m\u001b[0mget_dummies\u001b[0m\u001b[0;34m(\u001b[0m\u001b[0mtest_set_X\u001b[0m\u001b[0;34m.\u001b[0m\u001b[0mdrop\u001b[0m\u001b[0;34m(\u001b[0m\u001b[0mcolumns\u001b[0m\u001b[0;34m=\u001b[0m\u001b[0;34m[\u001b[0m\u001b[0;34m'respondent_id'\u001b[0m\u001b[0;34m]\u001b[0m\u001b[0;34m)\u001b[0m\u001b[0;34m,\u001b[0m\u001b[0mprefix\u001b[0m\u001b[0;34m=\u001b[0m\u001b[0;34m'C'\u001b[0m\u001b[0;34m,\u001b[0m\u001b[0mcolumns\u001b[0m\u001b[0;34m=\u001b[0m\u001b[0mcol_to_keep\u001b[0m\u001b[0;34m)\u001b[0m\u001b[0;34m\u001b[0m\u001b[0;34m\u001b[0m\u001b[0m\n\u001b[1;32m      5\u001b[0m \u001b[0mY_h1n1\u001b[0m \u001b[0;34m=\u001b[0m \u001b[0mdf\u001b[0m\u001b[0;34m[\u001b[0m\u001b[0;34m[\u001b[0m\u001b[0;34m'h1n1_vaccine'\u001b[0m \u001b[0;34m]\u001b[0m\u001b[0;34m]\u001b[0m\u001b[0;34m\u001b[0m\u001b[0;34m\u001b[0m\u001b[0m\n",
      "\u001b[0;32m/usr/local/lib/python3.6/dist-packages/pandas/core/frame.py\u001b[0m in \u001b[0;36mdrop\u001b[0;34m(self, labels, axis, index, columns, level, inplace, errors)\u001b[0m\n\u001b[1;32m   3995\u001b[0m             \u001b[0mlevel\u001b[0m\u001b[0;34m=\u001b[0m\u001b[0mlevel\u001b[0m\u001b[0;34m,\u001b[0m\u001b[0;34m\u001b[0m\u001b[0;34m\u001b[0m\u001b[0m\n\u001b[1;32m   3996\u001b[0m             \u001b[0minplace\u001b[0m\u001b[0;34m=\u001b[0m\u001b[0minplace\u001b[0m\u001b[0;34m,\u001b[0m\u001b[0;34m\u001b[0m\u001b[0;34m\u001b[0m\u001b[0m\n\u001b[0;32m-> 3997\u001b[0;31m             \u001b[0merrors\u001b[0m\u001b[0;34m=\u001b[0m\u001b[0merrors\u001b[0m\u001b[0;34m,\u001b[0m\u001b[0;34m\u001b[0m\u001b[0;34m\u001b[0m\u001b[0m\n\u001b[0m\u001b[1;32m   3998\u001b[0m         )\n\u001b[1;32m   3999\u001b[0m \u001b[0;34m\u001b[0m\u001b[0m\n",
      "\u001b[0;32m/usr/local/lib/python3.6/dist-packages/pandas/core/generic.py\u001b[0m in \u001b[0;36mdrop\u001b[0;34m(self, labels, axis, index, columns, level, inplace, errors)\u001b[0m\n\u001b[1;32m   3934\u001b[0m         \u001b[0;32mfor\u001b[0m \u001b[0maxis\u001b[0m\u001b[0;34m,\u001b[0m \u001b[0mlabels\u001b[0m \u001b[0;32min\u001b[0m \u001b[0maxes\u001b[0m\u001b[0;34m.\u001b[0m\u001b[0mitems\u001b[0m\u001b[0;34m(\u001b[0m\u001b[0;34m)\u001b[0m\u001b[0;34m:\u001b[0m\u001b[0;34m\u001b[0m\u001b[0;34m\u001b[0m\u001b[0m\n\u001b[1;32m   3935\u001b[0m             \u001b[0;32mif\u001b[0m \u001b[0mlabels\u001b[0m \u001b[0;32mis\u001b[0m \u001b[0;32mnot\u001b[0m \u001b[0;32mNone\u001b[0m\u001b[0;34m:\u001b[0m\u001b[0;34m\u001b[0m\u001b[0;34m\u001b[0m\u001b[0m\n\u001b[0;32m-> 3936\u001b[0;31m                 \u001b[0mobj\u001b[0m \u001b[0;34m=\u001b[0m \u001b[0mobj\u001b[0m\u001b[0;34m.\u001b[0m\u001b[0m_drop_axis\u001b[0m\u001b[0;34m(\u001b[0m\u001b[0mlabels\u001b[0m\u001b[0;34m,\u001b[0m \u001b[0maxis\u001b[0m\u001b[0;34m,\u001b[0m \u001b[0mlevel\u001b[0m\u001b[0;34m=\u001b[0m\u001b[0mlevel\u001b[0m\u001b[0;34m,\u001b[0m \u001b[0merrors\u001b[0m\u001b[0;34m=\u001b[0m\u001b[0merrors\u001b[0m\u001b[0;34m)\u001b[0m\u001b[0;34m\u001b[0m\u001b[0;34m\u001b[0m\u001b[0m\n\u001b[0m\u001b[1;32m   3937\u001b[0m \u001b[0;34m\u001b[0m\u001b[0m\n\u001b[1;32m   3938\u001b[0m         \u001b[0;32mif\u001b[0m \u001b[0minplace\u001b[0m\u001b[0;34m:\u001b[0m\u001b[0;34m\u001b[0m\u001b[0;34m\u001b[0m\u001b[0m\n",
      "\u001b[0;32m/usr/local/lib/python3.6/dist-packages/pandas/core/generic.py\u001b[0m in \u001b[0;36m_drop_axis\u001b[0;34m(self, labels, axis, level, errors)\u001b[0m\n\u001b[1;32m   3968\u001b[0m                 \u001b[0mnew_axis\u001b[0m \u001b[0;34m=\u001b[0m \u001b[0maxis\u001b[0m\u001b[0;34m.\u001b[0m\u001b[0mdrop\u001b[0m\u001b[0;34m(\u001b[0m\u001b[0mlabels\u001b[0m\u001b[0;34m,\u001b[0m \u001b[0mlevel\u001b[0m\u001b[0;34m=\u001b[0m\u001b[0mlevel\u001b[0m\u001b[0;34m,\u001b[0m \u001b[0merrors\u001b[0m\u001b[0;34m=\u001b[0m\u001b[0merrors\u001b[0m\u001b[0;34m)\u001b[0m\u001b[0;34m\u001b[0m\u001b[0;34m\u001b[0m\u001b[0m\n\u001b[1;32m   3969\u001b[0m             \u001b[0;32melse\u001b[0m\u001b[0;34m:\u001b[0m\u001b[0;34m\u001b[0m\u001b[0;34m\u001b[0m\u001b[0m\n\u001b[0;32m-> 3970\u001b[0;31m                 \u001b[0mnew_axis\u001b[0m \u001b[0;34m=\u001b[0m \u001b[0maxis\u001b[0m\u001b[0;34m.\u001b[0m\u001b[0mdrop\u001b[0m\u001b[0;34m(\u001b[0m\u001b[0mlabels\u001b[0m\u001b[0;34m,\u001b[0m \u001b[0merrors\u001b[0m\u001b[0;34m=\u001b[0m\u001b[0merrors\u001b[0m\u001b[0;34m)\u001b[0m\u001b[0;34m\u001b[0m\u001b[0;34m\u001b[0m\u001b[0m\n\u001b[0m\u001b[1;32m   3971\u001b[0m             \u001b[0mresult\u001b[0m \u001b[0;34m=\u001b[0m \u001b[0mself\u001b[0m\u001b[0;34m.\u001b[0m\u001b[0mreindex\u001b[0m\u001b[0;34m(\u001b[0m\u001b[0;34m**\u001b[0m\u001b[0;34m{\u001b[0m\u001b[0maxis_name\u001b[0m\u001b[0;34m:\u001b[0m \u001b[0mnew_axis\u001b[0m\u001b[0;34m}\u001b[0m\u001b[0;34m)\u001b[0m\u001b[0;34m\u001b[0m\u001b[0;34m\u001b[0m\u001b[0m\n\u001b[1;32m   3972\u001b[0m \u001b[0;34m\u001b[0m\u001b[0m\n",
      "\u001b[0;32m/usr/local/lib/python3.6/dist-packages/pandas/core/indexes/base.py\u001b[0m in \u001b[0;36mdrop\u001b[0;34m(self, labels, errors)\u001b[0m\n\u001b[1;32m   5016\u001b[0m         \u001b[0;32mif\u001b[0m \u001b[0mmask\u001b[0m\u001b[0;34m.\u001b[0m\u001b[0many\u001b[0m\u001b[0;34m(\u001b[0m\u001b[0;34m)\u001b[0m\u001b[0;34m:\u001b[0m\u001b[0;34m\u001b[0m\u001b[0;34m\u001b[0m\u001b[0m\n\u001b[1;32m   5017\u001b[0m             \u001b[0;32mif\u001b[0m \u001b[0merrors\u001b[0m \u001b[0;34m!=\u001b[0m \u001b[0;34m\"ignore\"\u001b[0m\u001b[0;34m:\u001b[0m\u001b[0;34m\u001b[0m\u001b[0;34m\u001b[0m\u001b[0m\n\u001b[0;32m-> 5018\u001b[0;31m                 \u001b[0;32mraise\u001b[0m \u001b[0mKeyError\u001b[0m\u001b[0;34m(\u001b[0m\u001b[0;34mf\"{labels[mask]} not found in axis\"\u001b[0m\u001b[0;34m)\u001b[0m\u001b[0;34m\u001b[0m\u001b[0;34m\u001b[0m\u001b[0m\n\u001b[0m\u001b[1;32m   5019\u001b[0m             \u001b[0mindexer\u001b[0m \u001b[0;34m=\u001b[0m \u001b[0mindexer\u001b[0m\u001b[0;34m[\u001b[0m\u001b[0;34m~\u001b[0m\u001b[0mmask\u001b[0m\u001b[0;34m]\u001b[0m\u001b[0;34m\u001b[0m\u001b[0;34m\u001b[0m\u001b[0m\n\u001b[1;32m   5020\u001b[0m         \u001b[0;32mreturn\u001b[0m \u001b[0mself\u001b[0m\u001b[0;34m.\u001b[0m\u001b[0mdelete\u001b[0m\u001b[0;34m(\u001b[0m\u001b[0mindexer\u001b[0m\u001b[0;34m)\u001b[0m\u001b[0;34m\u001b[0m\u001b[0;34m\u001b[0m\u001b[0m\n",
      "\u001b[0;31mKeyError\u001b[0m: \"['h1n1_vaccine' 'respondent_id' 'seasonal_vaccine'] not found in axis\""
     ]
    }
   ],
   "source": [
    "X = df.drop(columns=['h1n1_vaccine' ,'respondent_id' , 'seasonal_vaccine'])\n",
    "col_to_keep = [col for col in list(X.columns)]\n",
    "X = pd.get_dummies(X, columns=col_to_keep)\n",
    "test_X = pd.get_dummies(test_set_X.drop(columns=['respondent_id']),prefix='C',columns=col_to_keep)\n",
    "Y_h1n1 = df[['h1n1_vaccine' ]]\n",
    "Y_seasonal = df[['seasonal_vaccine']]\n",
    "print(X.head())\n",
    "print(Y.head())\n",
    "len(test_X.columns),len(X.columns)"
   ]
  },
  {
   "cell_type": "code",
   "execution_count": null,
   "metadata": {
    "colab": {
     "base_uri": "https://localhost:8080/",
     "height": 204
    },
    "colab_type": "code",
    "id": "cwAM06tHY1SM",
    "outputId": "762f8b5a-cd38-4180-e9a2-485b13d12326"
   },
   "outputs": [
    {
     "data": {
      "text/plain": [
       "Index(['h1n1_concern_0.0', 'h1n1_concern_1.0', 'h1n1_concern_2.0',\n",
       "       'h1n1_concern_3.0', 'h1n1_knowledge_0.0', 'h1n1_knowledge_1.0',\n",
       "       'h1n1_knowledge_2.0', 'behavioral_antiviral_meds_0.0',\n",
       "       'behavioral_antiviral_meds_1.0', 'behavioral_avoidance_0.0',\n",
       "       ...\n",
       "       'census_msa_MSA, Principle City', 'census_msa_Non-MSA',\n",
       "       'household_adults_0.0', 'household_adults_1.0', 'household_adults_2.0',\n",
       "       'household_adults_3.0', 'household_children_0.0',\n",
       "       'household_children_1.0', 'household_children_2.0',\n",
       "       'household_children_3.0'],\n",
       "      dtype='object', length=109)"
      ]
     },
     "execution_count": 272,
     "metadata": {
      "tags": []
     },
     "output_type": "execute_result"
    }
   ],
   "source": [
    "X.columns"
   ]
  },
  {
   "cell_type": "code",
   "execution_count": null,
   "metadata": {
    "colab": {},
    "colab_type": "code",
    "id": "9i2v4N7fLIQP"
   },
   "outputs": [],
   "source": [
    "X_train,X_valid,Y_train_h1n1,Y_valid_h1n1 = train_test_split(X,Y_h1n1,test_size=0.1,random_state=101,stratify=Y_h1n1.values)"
   ]
  },
  {
   "cell_type": "code",
   "execution_count": null,
   "metadata": {
    "colab": {
     "base_uri": "https://localhost:8080/",
     "height": 204
    },
    "colab_type": "code",
    "id": "9z7K1Z_rM66J",
    "outputId": "cd8767c3-4c8b-4772-f4a3-059bf72b5cd4"
   },
   "outputs": [
    {
     "data": {
      "text/html": [
       "<div>\n",
       "<style scoped>\n",
       "    .dataframe tbody tr th:only-of-type {\n",
       "        vertical-align: middle;\n",
       "    }\n",
       "\n",
       "    .dataframe tbody tr th {\n",
       "        vertical-align: top;\n",
       "    }\n",
       "\n",
       "    .dataframe thead th {\n",
       "        text-align: right;\n",
       "    }\n",
       "</style>\n",
       "<table border=\"1\" class=\"dataframe\">\n",
       "  <thead>\n",
       "    <tr style=\"text-align: right;\">\n",
       "      <th></th>\n",
       "      <th>h1n1_vaccine</th>\n",
       "    </tr>\n",
       "  </thead>\n",
       "  <tbody>\n",
       "    <tr>\n",
       "      <th>6063</th>\n",
       "      <td>0</td>\n",
       "    </tr>\n",
       "    <tr>\n",
       "      <th>3761</th>\n",
       "      <td>0</td>\n",
       "    </tr>\n",
       "    <tr>\n",
       "      <th>22030</th>\n",
       "      <td>0</td>\n",
       "    </tr>\n",
       "    <tr>\n",
       "      <th>23134</th>\n",
       "      <td>0</td>\n",
       "    </tr>\n",
       "    <tr>\n",
       "      <th>11117</th>\n",
       "      <td>0</td>\n",
       "    </tr>\n",
       "  </tbody>\n",
       "</table>\n",
       "</div>"
      ],
      "text/plain": [
       "       h1n1_vaccine\n",
       "6063              0\n",
       "3761              0\n",
       "22030             0\n",
       "23134             0\n",
       "11117             0"
      ]
     },
     "execution_count": 281,
     "metadata": {
      "tags": []
     },
     "output_type": "execute_result"
    }
   ],
   "source": [
    "Y_train_h1n1.head()"
   ]
  },
  {
   "cell_type": "markdown",
   "metadata": {
    "colab_type": "text",
    "id": "kFyrwTO1OOgI"
   },
   "source": [
    "## Training a logistic regression on this model"
   ]
  },
  {
   "cell_type": "code",
   "execution_count": null,
   "metadata": {
    "colab": {
     "base_uri": "https://localhost:8080/",
     "height": 34
    },
    "colab_type": "code",
    "id": "191iJgJCNWVn",
    "outputId": "cc3dd0ee-0227-496b-b6a9-2be1ae55e139"
   },
   "outputs": [
    {
     "data": {
      "text/plain": [
       "(83.5313833028641, 83.40950639853747)"
      ]
     },
     "execution_count": 282,
     "metadata": {
      "tags": []
     },
     "output_type": "execute_result"
    }
   ],
   "source": [
    "logreg = LogisticRegression(random_state=101,max_iter=400)\n",
    "logreg.fit(X_train,Y_train_h1n1.to_numpy().ravel())\n",
    "logreg.score(X_train,Y_train_h1n1)*100,logreg.score(X_valid,Y_valid_h1n1)*100"
   ]
  },
  {
   "cell_type": "code",
   "execution_count": null,
   "metadata": {
    "colab": {
     "base_uri": "https://localhost:8080/",
     "height": 34
    },
    "colab_type": "code",
    "id": "ZtFWlPjNWFbq",
    "outputId": "d141e213-b52c-49b0-ad50-04cc5ed2a451"
   },
   "outputs": [
    {
     "data": {
      "text/plain": [
       "array([0, 0, 0, 0, 0, 0, 0, 0, 0, 0])"
      ]
     },
     "execution_count": 283,
     "metadata": {
      "tags": []
     },
     "output_type": "execute_result"
    }
   ],
   "source": [
    "test_Y = logreg.predict(test_X)\n",
    "test_Y[:10]"
   ]
  },
  {
   "cell_type": "markdown",
   "metadata": {
    "colab_type": "text",
    "id": "mOhDXfihTpMh"
   },
   "source": [
    "## Keeping only important features for h1n1"
   ]
  },
  {
   "cell_type": "code",
   "execution_count": null,
   "metadata": {
    "colab": {
     "base_uri": "https://localhost:8080/",
     "height": 391
    },
    "colab_type": "code",
    "id": "m9bQwxVFbTrF",
    "outputId": "8ff6fadd-00e0-4f7c-a2aa-ceafa9a9c2d4"
   },
   "outputs": [
    {
     "data": {
      "text/plain": [
       "array([[ 0.09981564,  0.05071415, -0.01167782, -0.2308482 , -0.09632139,\n",
       "        -0.07537428,  0.07969943, -0.13820529,  0.04620906, -0.0035167 ,\n",
       "        -0.08847953, -0.17434428,  0.08234805, -0.08933331, -0.00266292,\n",
       "         0.0480302 , -0.14002644, -0.01714393, -0.0748523 , -0.06692999,\n",
       "        -0.02506625, -1.01146034,  0.9194641 ,  0.23909667, -0.3310929 ,\n",
       "        -0.12944795,  0.03745171, -0.21220271,  0.12020648, -0.46655376,\n",
       "         0.37455752, -0.28028018,  0.18828394, -0.79135707, -0.60182908,\n",
       "        -0.17224892,  0.31330624,  1.1601326 , -0.8216239 , -0.35616737,\n",
       "         0.01451341,  0.38986721,  0.6814144 ,  0.1705177 , -0.12288209,\n",
       "        -0.35519976,  0.07405219,  0.14151573, -0.04880392, -0.34590492,\n",
       "         0.31822293, -0.05785039,  0.04234006, -0.52813096, -0.11481937,\n",
       "         0.17969153,  0.1564277 ,  0.21483487,  0.18373644,  0.05935514,\n",
       "        -0.10751617, -0.01139626, -0.21617538, -0.18187513, -0.21007785,\n",
       "        -0.11837794,  0.1693727 ,  0.24896198, -0.02624845, -0.14407858,\n",
       "         0.08697901, -0.00864822, -0.20253715,  0.00536624,  0.08374027,\n",
       "         0.02143441, -0.14673543,  0.0547392 , -0.06838057, -0.01282761,\n",
       "        -0.01078805,  0.00621688, -0.09821312, -0.01673568, -0.07526055,\n",
       "        -0.06191099,  0.00572815, -0.0358134 , -0.00463627, -0.04617319,\n",
       "        -0.13151189, -0.04970788, -0.00475167,  0.06955344, -0.14413004,\n",
       "         0.12486783,  0.09600364, -0.0015102 , -0.07793737, -0.01734373,\n",
       "         0.00328487, -0.0428281 ,  0.02795184,  0.01622113, -0.0933411 ,\n",
       "        -0.04259209,  0.08323864, -0.04743289, -0.08520989]])"
      ]
     },
     "execution_count": 284,
     "metadata": {
      "tags": []
     },
     "output_type": "execute_result"
    }
   ],
   "source": [
    "logreg.coef_"
   ]
  },
  {
   "cell_type": "code",
   "execution_count": null,
   "metadata": {
    "colab": {},
    "colab_type": "code",
    "id": "3tG0iQj-PDkv"
   },
   "outputs": [],
   "source": [
    "mask = (abs(logreg.coef_) > 0.05).ravel().reshape(-1,1)\n",
    "cols_h1n1 = np.array(X_train.columns).reshape(-1,1)[mask]"
   ]
  },
  {
   "cell_type": "code",
   "execution_count": null,
   "metadata": {
    "colab": {
     "base_uri": "https://localhost:8080/",
     "height": 629
    },
    "colab_type": "code",
    "id": "g1jgjsKCPFRu",
    "outputId": "197936d9-d17d-4857-df68-9f8437a13b25"
   },
   "outputs": [
    {
     "data": {
      "text/plain": [
       "Index(['h1n1_concern_0.0', 'h1n1_concern_1.0', 'h1n1_concern_3.0',\n",
       "       'h1n1_knowledge_0.0', 'h1n1_knowledge_1.0', 'h1n1_knowledge_2.0',\n",
       "       'behavioral_antiviral_meds_0.0', 'behavioral_avoidance_1.0',\n",
       "       'behavioral_face_mask_0.0', 'behavioral_face_mask_1.0',\n",
       "       'behavioral_wash_hands_0.0', 'behavioral_large_gatherings_1.0',\n",
       "       'behavioral_outside_home_1.0', 'behavioral_touch_face_0.0',\n",
       "       'doctor_recc_h1n1_0.0', 'doctor_recc_h1n1_1.0',\n",
       "       'doctor_recc_seasonal_0.0', 'doctor_recc_seasonal_1.0',\n",
       "       'chronic_med_condition_0.0', 'child_under_6_months_0.0',\n",
       "       'child_under_6_months_1.0', 'health_worker_0.0', 'health_worker_1.0',\n",
       "       'health_insurance_0.0', 'health_insurance_1.0',\n",
       "       'opinion_h1n1_vacc_effective_1.0', 'opinion_h1n1_vacc_effective_2.0',\n",
       "       'opinion_h1n1_vacc_effective_3.0', 'opinion_h1n1_vacc_effective_4.0',\n",
       "       'opinion_h1n1_vacc_effective_5.0', 'opinion_h1n1_risk_1.0',\n",
       "       'opinion_h1n1_risk_2.0', 'opinion_h1n1_risk_4.0',\n",
       "       'opinion_h1n1_risk_5.0', 'opinion_h1n1_sick_from_vacc_1.0',\n",
       "       'opinion_h1n1_sick_from_vacc_2.0', 'opinion_h1n1_sick_from_vacc_3.0',\n",
       "       'opinion_h1n1_sick_from_vacc_4.0', 'opinion_h1n1_sick_from_vacc_5.0',\n",
       "       'opinion_seas_vacc_effective_2.0', 'opinion_seas_vacc_effective_3.0',\n",
       "       'opinion_seas_vacc_effective_4.0', 'opinion_seas_risk_1.0',\n",
       "       'opinion_seas_risk_2.0', 'opinion_seas_risk_3.0',\n",
       "       'opinion_seas_risk_4.0', 'opinion_seas_risk_5.0',\n",
       "       'opinion_seas_sick_from_vacc_1.0', 'opinion_seas_sick_from_vacc_2.0',\n",
       "       'opinion_seas_sick_from_vacc_3.0', 'opinion_seas_sick_from_vacc_5.0',\n",
       "       'age_group_18 - 34 Years', 'age_group_35 - 44 Years',\n",
       "       'age_group_45 - 54 Years', 'age_group_55 - 64 Years',\n",
       "       'age_group_65+ Years', 'education_< 12 Years',\n",
       "       'education_College Graduate', 'race_Black', 'race_Other or Multiple',\n",
       "       'sex_Female', 'sex_Male', 'income_poverty_<= $75,000, Above Poverty',\n",
       "       'marital_status_Not Married', 'rent_or_own_Rent',\n",
       "       'employment_status_Employed', 'hhs_geo_region_dqpwygqj',\n",
       "       'hhs_geo_region_lrircsnp', 'hhs_geo_region_lzgpxyit',\n",
       "       'hhs_geo_region_mlyzmhmf', 'hhs_geo_region_oxchjgsf',\n",
       "       'census_msa_MSA, Not Principle  City', 'household_adults_3.0',\n",
       "       'household_children_1.0', 'household_children_3.0'],\n",
       "      dtype='object')"
      ]
     },
     "execution_count": 286,
     "metadata": {
      "tags": []
     },
     "output_type": "execute_result"
    }
   ],
   "source": [
    "X_train_engineered = X_train.loc[:,cols_h1n1]\n",
    "X_valid_engineered = X_valid.loc[:,cols_h1n1]\n",
    "X_train_engineered.columns"
   ]
  },
  {
   "cell_type": "code",
   "execution_count": null,
   "metadata": {
    "colab": {
     "base_uri": "https://localhost:8080/",
     "height": 51
    },
    "colab_type": "code",
    "id": "3W_oloApQmKh",
    "outputId": "668c5292-9c58-4a27-8c92-c103718057b2"
   },
   "outputs": [
    {
     "name": "stdout",
     "output_type": "stream",
     "text": [
      "83.55677432459882\n",
      "83.27239488117002\n"
     ]
    }
   ],
   "source": [
    "logreg2 = LogisticRegression(max_iter=400)\n",
    "logreg2.fit(X_train_engineered,Y_train_h1n1.to_numpy().ravel())\n",
    "print(logreg2.score(X_train_engineered,Y_train_h1n1)*100)\n",
    "print(logreg2.score(X_valid_engineered,Y_valid_h1n1)*100)"
   ]
  },
  {
   "cell_type": "code",
   "execution_count": null,
   "metadata": {
    "colab": {
     "base_uri": "https://localhost:8080/",
     "height": 490
    },
    "colab_type": "code",
    "id": "sttYVTBbTKl_",
    "outputId": "9781971b-f976-4339-9544-a64d09e0a0c1"
   },
   "outputs": [
    {
     "data": {
      "text/html": [
       "<div>\n",
       "<style scoped>\n",
       "    .dataframe tbody tr th:only-of-type {\n",
       "        vertical-align: middle;\n",
       "    }\n",
       "\n",
       "    .dataframe tbody tr th {\n",
       "        vertical-align: top;\n",
       "    }\n",
       "\n",
       "    .dataframe thead th {\n",
       "        text-align: right;\n",
       "    }\n",
       "</style>\n",
       "<table border=\"1\" class=\"dataframe\">\n",
       "  <thead>\n",
       "    <tr style=\"text-align: right;\">\n",
       "      <th></th>\n",
       "      <th>h1n1_concern</th>\n",
       "      <th>h1n1_knowledge</th>\n",
       "      <th>behavioral_antiviral_meds</th>\n",
       "      <th>behavioral_face_mask</th>\n",
       "      <th>behavioral_large_gatherings</th>\n",
       "      <th>behavioral_touch_face</th>\n",
       "      <th>doctor_recc_h1n1</th>\n",
       "      <th>doctor_recc_seasonal</th>\n",
       "      <th>chronic_med_condition</th>\n",
       "      <th>child_under_6_months</th>\n",
       "      <th>health_worker</th>\n",
       "      <th>health_insurance</th>\n",
       "      <th>opinion_h1n1_vacc_effective</th>\n",
       "      <th>opinion_h1n1_risk</th>\n",
       "      <th>opinion_seas_vacc_effective</th>\n",
       "      <th>opinion_seas_risk</th>\n",
       "      <th>opinion_seas_sick_from_vacc</th>\n",
       "      <th>C_18 - 34 Years</th>\n",
       "      <th>C_35 - 44 Years</th>\n",
       "      <th>C_45 - 54 Years</th>\n",
       "      <th>C_65+ Years</th>\n",
       "      <th>C_&lt; 12 Years</th>\n",
       "      <th>C_College Graduate</th>\n",
       "      <th>C_Black</th>\n",
       "      <th>C_Female</th>\n",
       "      <th>C_Male</th>\n",
       "      <th>C_&lt;= $75,000, Above Poverty</th>\n",
       "      <th>C_Married</th>\n",
       "      <th>C_Not Married</th>\n",
       "      <th>C_Own</th>\n",
       "      <th>C_Rent</th>\n",
       "      <th>C_Employed</th>\n",
       "      <th>C_bhuqouqj</th>\n",
       "      <th>C_dqpwygqj</th>\n",
       "      <th>C_fpwskwrf</th>\n",
       "      <th>C_lrircsnp</th>\n",
       "      <th>C_lzgpxyit</th>\n",
       "      <th>C_mlyzmhmf</th>\n",
       "      <th>C_oxchjgsf</th>\n",
       "      <th>C_MSA, Not Principle  City</th>\n",
       "    </tr>\n",
       "  </thead>\n",
       "  <tbody>\n",
       "    <tr>\n",
       "      <th>0</th>\n",
       "      <td>2.0</td>\n",
       "      <td>2.0</td>\n",
       "      <td>0.0</td>\n",
       "      <td>0.0</td>\n",
       "      <td>1.0</td>\n",
       "      <td>1.0</td>\n",
       "      <td>0.0</td>\n",
       "      <td>0.0</td>\n",
       "      <td>0.0</td>\n",
       "      <td>0.0</td>\n",
       "      <td>0.0</td>\n",
       "      <td>1.0</td>\n",
       "      <td>5.0</td>\n",
       "      <td>1.0</td>\n",
       "      <td>5.0</td>\n",
       "      <td>1.0</td>\n",
       "      <td>1.0</td>\n",
       "      <td>0</td>\n",
       "      <td>1</td>\n",
       "      <td>0</td>\n",
       "      <td>0</td>\n",
       "      <td>0</td>\n",
       "      <td>1</td>\n",
       "      <td>0</td>\n",
       "      <td>1</td>\n",
       "      <td>0</td>\n",
       "      <td>0</td>\n",
       "      <td>0</td>\n",
       "      <td>1</td>\n",
       "      <td>0</td>\n",
       "      <td>1</td>\n",
       "      <td>1</td>\n",
       "      <td>0</td>\n",
       "      <td>0</td>\n",
       "      <td>0</td>\n",
       "      <td>0</td>\n",
       "      <td>0</td>\n",
       "      <td>1</td>\n",
       "      <td>0</td>\n",
       "      <td>1</td>\n",
       "    </tr>\n",
       "    <tr>\n",
       "      <th>1</th>\n",
       "      <td>1.0</td>\n",
       "      <td>1.0</td>\n",
       "      <td>0.0</td>\n",
       "      <td>0.0</td>\n",
       "      <td>0.0</td>\n",
       "      <td>0.0</td>\n",
       "      <td>0.0</td>\n",
       "      <td>0.0</td>\n",
       "      <td>0.0</td>\n",
       "      <td>0.0</td>\n",
       "      <td>0.0</td>\n",
       "      <td>0.0</td>\n",
       "      <td>4.0</td>\n",
       "      <td>1.0</td>\n",
       "      <td>4.0</td>\n",
       "      <td>1.0</td>\n",
       "      <td>1.0</td>\n",
       "      <td>1</td>\n",
       "      <td>0</td>\n",
       "      <td>0</td>\n",
       "      <td>0</td>\n",
       "      <td>0</td>\n",
       "      <td>0</td>\n",
       "      <td>0</td>\n",
       "      <td>0</td>\n",
       "      <td>1</td>\n",
       "      <td>0</td>\n",
       "      <td>0</td>\n",
       "      <td>1</td>\n",
       "      <td>0</td>\n",
       "      <td>1</td>\n",
       "      <td>1</td>\n",
       "      <td>1</td>\n",
       "      <td>0</td>\n",
       "      <td>0</td>\n",
       "      <td>0</td>\n",
       "      <td>0</td>\n",
       "      <td>0</td>\n",
       "      <td>0</td>\n",
       "      <td>0</td>\n",
       "    </tr>\n",
       "    <tr>\n",
       "      <th>2</th>\n",
       "      <td>2.0</td>\n",
       "      <td>2.0</td>\n",
       "      <td>0.0</td>\n",
       "      <td>1.0</td>\n",
       "      <td>1.0</td>\n",
       "      <td>1.0</td>\n",
       "      <td>0.0</td>\n",
       "      <td>0.0</td>\n",
       "      <td>0.0</td>\n",
       "      <td>0.0</td>\n",
       "      <td>0.0</td>\n",
       "      <td>0.0</td>\n",
       "      <td>5.0</td>\n",
       "      <td>4.0</td>\n",
       "      <td>5.0</td>\n",
       "      <td>4.0</td>\n",
       "      <td>4.0</td>\n",
       "      <td>0</td>\n",
       "      <td>0</td>\n",
       "      <td>0</td>\n",
       "      <td>0</td>\n",
       "      <td>0</td>\n",
       "      <td>1</td>\n",
       "      <td>0</td>\n",
       "      <td>0</td>\n",
       "      <td>1</td>\n",
       "      <td>0</td>\n",
       "      <td>1</td>\n",
       "      <td>0</td>\n",
       "      <td>1</td>\n",
       "      <td>0</td>\n",
       "      <td>1</td>\n",
       "      <td>0</td>\n",
       "      <td>0</td>\n",
       "      <td>0</td>\n",
       "      <td>1</td>\n",
       "      <td>0</td>\n",
       "      <td>0</td>\n",
       "      <td>0</td>\n",
       "      <td>0</td>\n",
       "    </tr>\n",
       "    <tr>\n",
       "      <th>3</th>\n",
       "      <td>1.0</td>\n",
       "      <td>1.0</td>\n",
       "      <td>0.0</td>\n",
       "      <td>0.0</td>\n",
       "      <td>0.0</td>\n",
       "      <td>0.0</td>\n",
       "      <td>1.0</td>\n",
       "      <td>1.0</td>\n",
       "      <td>1.0</td>\n",
       "      <td>0.0</td>\n",
       "      <td>0.0</td>\n",
       "      <td>1.0</td>\n",
       "      <td>4.0</td>\n",
       "      <td>2.0</td>\n",
       "      <td>4.0</td>\n",
       "      <td>4.0</td>\n",
       "      <td>2.0</td>\n",
       "      <td>0</td>\n",
       "      <td>0</td>\n",
       "      <td>0</td>\n",
       "      <td>1</td>\n",
       "      <td>0</td>\n",
       "      <td>0</td>\n",
       "      <td>0</td>\n",
       "      <td>1</td>\n",
       "      <td>0</td>\n",
       "      <td>1</td>\n",
       "      <td>1</td>\n",
       "      <td>0</td>\n",
       "      <td>1</td>\n",
       "      <td>0</td>\n",
       "      <td>0</td>\n",
       "      <td>0</td>\n",
       "      <td>0</td>\n",
       "      <td>0</td>\n",
       "      <td>1</td>\n",
       "      <td>0</td>\n",
       "      <td>0</td>\n",
       "      <td>0</td>\n",
       "      <td>1</td>\n",
       "    </tr>\n",
       "    <tr>\n",
       "      <th>4</th>\n",
       "      <td>3.0</td>\n",
       "      <td>1.0</td>\n",
       "      <td>1.0</td>\n",
       "      <td>0.0</td>\n",
       "      <td>1.0</td>\n",
       "      <td>1.0</td>\n",
       "      <td>0.0</td>\n",
       "      <td>0.0</td>\n",
       "      <td>0.0</td>\n",
       "      <td>0.0</td>\n",
       "      <td>1.0</td>\n",
       "      <td>1.0</td>\n",
       "      <td>5.0</td>\n",
       "      <td>2.0</td>\n",
       "      <td>4.0</td>\n",
       "      <td>4.0</td>\n",
       "      <td>2.0</td>\n",
       "      <td>0</td>\n",
       "      <td>1</td>\n",
       "      <td>0</td>\n",
       "      <td>0</td>\n",
       "      <td>0</td>\n",
       "      <td>0</td>\n",
       "      <td>1</td>\n",
       "      <td>1</td>\n",
       "      <td>0</td>\n",
       "      <td>1</td>\n",
       "      <td>0</td>\n",
       "      <td>1</td>\n",
       "      <td>1</td>\n",
       "      <td>0</td>\n",
       "      <td>1</td>\n",
       "      <td>0</td>\n",
       "      <td>0</td>\n",
       "      <td>0</td>\n",
       "      <td>0</td>\n",
       "      <td>1</td>\n",
       "      <td>0</td>\n",
       "      <td>0</td>\n",
       "      <td>0</td>\n",
       "    </tr>\n",
       "    <tr>\n",
       "      <th>...</th>\n",
       "      <td>...</td>\n",
       "      <td>...</td>\n",
       "      <td>...</td>\n",
       "      <td>...</td>\n",
       "      <td>...</td>\n",
       "      <td>...</td>\n",
       "      <td>...</td>\n",
       "      <td>...</td>\n",
       "      <td>...</td>\n",
       "      <td>...</td>\n",
       "      <td>...</td>\n",
       "      <td>...</td>\n",
       "      <td>...</td>\n",
       "      <td>...</td>\n",
       "      <td>...</td>\n",
       "      <td>...</td>\n",
       "      <td>...</td>\n",
       "      <td>...</td>\n",
       "      <td>...</td>\n",
       "      <td>...</td>\n",
       "      <td>...</td>\n",
       "      <td>...</td>\n",
       "      <td>...</td>\n",
       "      <td>...</td>\n",
       "      <td>...</td>\n",
       "      <td>...</td>\n",
       "      <td>...</td>\n",
       "      <td>...</td>\n",
       "      <td>...</td>\n",
       "      <td>...</td>\n",
       "      <td>...</td>\n",
       "      <td>...</td>\n",
       "      <td>...</td>\n",
       "      <td>...</td>\n",
       "      <td>...</td>\n",
       "      <td>...</td>\n",
       "      <td>...</td>\n",
       "      <td>...</td>\n",
       "      <td>...</td>\n",
       "      <td>...</td>\n",
       "    </tr>\n",
       "    <tr>\n",
       "      <th>26703</th>\n",
       "      <td>1.0</td>\n",
       "      <td>1.0</td>\n",
       "      <td>0.0</td>\n",
       "      <td>0.0</td>\n",
       "      <td>0.0</td>\n",
       "      <td>1.0</td>\n",
       "      <td>1.0</td>\n",
       "      <td>1.0</td>\n",
       "      <td>0.0</td>\n",
       "      <td>0.0</td>\n",
       "      <td>0.0</td>\n",
       "      <td>1.0</td>\n",
       "      <td>4.0</td>\n",
       "      <td>2.0</td>\n",
       "      <td>4.0</td>\n",
       "      <td>2.0</td>\n",
       "      <td>1.0</td>\n",
       "      <td>0</td>\n",
       "      <td>1</td>\n",
       "      <td>0</td>\n",
       "      <td>0</td>\n",
       "      <td>0</td>\n",
       "      <td>0</td>\n",
       "      <td>0</td>\n",
       "      <td>1</td>\n",
       "      <td>0</td>\n",
       "      <td>0</td>\n",
       "      <td>0</td>\n",
       "      <td>0</td>\n",
       "      <td>0</td>\n",
       "      <td>0</td>\n",
       "      <td>0</td>\n",
       "      <td>0</td>\n",
       "      <td>1</td>\n",
       "      <td>0</td>\n",
       "      <td>0</td>\n",
       "      <td>0</td>\n",
       "      <td>0</td>\n",
       "      <td>0</td>\n",
       "      <td>0</td>\n",
       "    </tr>\n",
       "    <tr>\n",
       "      <th>26704</th>\n",
       "      <td>3.0</td>\n",
       "      <td>1.0</td>\n",
       "      <td>0.0</td>\n",
       "      <td>0.0</td>\n",
       "      <td>1.0</td>\n",
       "      <td>1.0</td>\n",
       "      <td>0.0</td>\n",
       "      <td>0.0</td>\n",
       "      <td>0.0</td>\n",
       "      <td>0.0</td>\n",
       "      <td>1.0</td>\n",
       "      <td>0.0</td>\n",
       "      <td>4.0</td>\n",
       "      <td>1.0</td>\n",
       "      <td>5.0</td>\n",
       "      <td>2.0</td>\n",
       "      <td>2.0</td>\n",
       "      <td>1</td>\n",
       "      <td>0</td>\n",
       "      <td>0</td>\n",
       "      <td>0</td>\n",
       "      <td>0</td>\n",
       "      <td>0</td>\n",
       "      <td>0</td>\n",
       "      <td>0</td>\n",
       "      <td>1</td>\n",
       "      <td>0</td>\n",
       "      <td>1</td>\n",
       "      <td>0</td>\n",
       "      <td>0</td>\n",
       "      <td>1</td>\n",
       "      <td>1</td>\n",
       "      <td>0</td>\n",
       "      <td>0</td>\n",
       "      <td>0</td>\n",
       "      <td>0</td>\n",
       "      <td>0</td>\n",
       "      <td>0</td>\n",
       "      <td>0</td>\n",
       "      <td>0</td>\n",
       "    </tr>\n",
       "    <tr>\n",
       "      <th>26705</th>\n",
       "      <td>0.0</td>\n",
       "      <td>1.0</td>\n",
       "      <td>0.0</td>\n",
       "      <td>0.0</td>\n",
       "      <td>0.0</td>\n",
       "      <td>0.0</td>\n",
       "      <td>0.0</td>\n",
       "      <td>0.0</td>\n",
       "      <td>0.0</td>\n",
       "      <td>0.0</td>\n",
       "      <td>0.0</td>\n",
       "      <td>1.0</td>\n",
       "      <td>4.0</td>\n",
       "      <td>3.0</td>\n",
       "      <td>4.0</td>\n",
       "      <td>3.0</td>\n",
       "      <td>1.0</td>\n",
       "      <td>1</td>\n",
       "      <td>0</td>\n",
       "      <td>0</td>\n",
       "      <td>0</td>\n",
       "      <td>0</td>\n",
       "      <td>0</td>\n",
       "      <td>0</td>\n",
       "      <td>1</td>\n",
       "      <td>0</td>\n",
       "      <td>0</td>\n",
       "      <td>0</td>\n",
       "      <td>1</td>\n",
       "      <td>0</td>\n",
       "      <td>1</td>\n",
       "      <td>0</td>\n",
       "      <td>0</td>\n",
       "      <td>0</td>\n",
       "      <td>0</td>\n",
       "      <td>0</td>\n",
       "      <td>0</td>\n",
       "      <td>0</td>\n",
       "      <td>0</td>\n",
       "      <td>1</td>\n",
       "    </tr>\n",
       "    <tr>\n",
       "      <th>26706</th>\n",
       "      <td>3.0</td>\n",
       "      <td>1.0</td>\n",
       "      <td>0.0</td>\n",
       "      <td>0.0</td>\n",
       "      <td>0.0</td>\n",
       "      <td>0.0</td>\n",
       "      <td>0.0</td>\n",
       "      <td>0.0</td>\n",
       "      <td>0.0</td>\n",
       "      <td>1.0</td>\n",
       "      <td>0.0</td>\n",
       "      <td>1.0</td>\n",
       "      <td>2.0</td>\n",
       "      <td>3.0</td>\n",
       "      <td>4.0</td>\n",
       "      <td>3.0</td>\n",
       "      <td>2.0</td>\n",
       "      <td>0</td>\n",
       "      <td>0</td>\n",
       "      <td>0</td>\n",
       "      <td>0</td>\n",
       "      <td>0</td>\n",
       "      <td>0</td>\n",
       "      <td>0</td>\n",
       "      <td>1</td>\n",
       "      <td>0</td>\n",
       "      <td>1</td>\n",
       "      <td>1</td>\n",
       "      <td>0</td>\n",
       "      <td>1</td>\n",
       "      <td>0</td>\n",
       "      <td>0</td>\n",
       "      <td>1</td>\n",
       "      <td>0</td>\n",
       "      <td>0</td>\n",
       "      <td>0</td>\n",
       "      <td>0</td>\n",
       "      <td>0</td>\n",
       "      <td>0</td>\n",
       "      <td>1</td>\n",
       "    </tr>\n",
       "    <tr>\n",
       "      <th>26707</th>\n",
       "      <td>2.0</td>\n",
       "      <td>1.0</td>\n",
       "      <td>0.0</td>\n",
       "      <td>0.0</td>\n",
       "      <td>0.0</td>\n",
       "      <td>1.0</td>\n",
       "      <td>1.0</td>\n",
       "      <td>0.0</td>\n",
       "      <td>0.0</td>\n",
       "      <td>0.0</td>\n",
       "      <td>0.0</td>\n",
       "      <td>1.0</td>\n",
       "      <td>5.0</td>\n",
       "      <td>1.0</td>\n",
       "      <td>5.0</td>\n",
       "      <td>4.0</td>\n",
       "      <td>2.0</td>\n",
       "      <td>0</td>\n",
       "      <td>0</td>\n",
       "      <td>1</td>\n",
       "      <td>0</td>\n",
       "      <td>0</td>\n",
       "      <td>1</td>\n",
       "      <td>0</td>\n",
       "      <td>1</td>\n",
       "      <td>0</td>\n",
       "      <td>0</td>\n",
       "      <td>0</td>\n",
       "      <td>1</td>\n",
       "      <td>0</td>\n",
       "      <td>1</td>\n",
       "      <td>1</td>\n",
       "      <td>0</td>\n",
       "      <td>0</td>\n",
       "      <td>0</td>\n",
       "      <td>1</td>\n",
       "      <td>0</td>\n",
       "      <td>0</td>\n",
       "      <td>0</td>\n",
       "      <td>0</td>\n",
       "    </tr>\n",
       "  </tbody>\n",
       "</table>\n",
       "<p>26708 rows × 40 columns</p>\n",
       "</div>"
      ],
      "text/plain": [
       "       h1n1_concern  h1n1_knowledge  ...  C_oxchjgsf  C_MSA, Not Principle  City\n",
       "0               2.0             2.0  ...           0                           1\n",
       "1               1.0             1.0  ...           0                           0\n",
       "2               2.0             2.0  ...           0                           0\n",
       "3               1.0             1.0  ...           0                           1\n",
       "4               3.0             1.0  ...           0                           0\n",
       "...             ...             ...  ...         ...                         ...\n",
       "26703           1.0             1.0  ...           0                           0\n",
       "26704           3.0             1.0  ...           0                           0\n",
       "26705           0.0             1.0  ...           0                           1\n",
       "26706           3.0             1.0  ...           0                           1\n",
       "26707           2.0             1.0  ...           0                           0\n",
       "\n",
       "[26708 rows x 40 columns]"
      ]
     },
     "execution_count": 238,
     "metadata": {
      "tags": []
     },
     "output_type": "execute_result"
    }
   ],
   "source": [
    "test_X[cols_h1n1]"
   ]
  },
  {
   "cell_type": "markdown",
   "metadata": {
    "colab_type": "text",
    "id": "PklXFAmqcauh"
   },
   "source": [
    "## Trying a more compilcated model"
   ]
  },
  {
   "cell_type": "code",
   "execution_count": null,
   "metadata": {
    "colab": {
     "base_uri": "https://localhost:8080/",
     "height": 34
    },
    "colab_type": "code",
    "id": "acBmY0J1bLnV",
    "outputId": "4cf9a6bd-a1e1-4bb1-df4c-0c21be0a11e5"
   },
   "outputs": [
    {
     "data": {
      "text/plain": [
       "(83.33333333333334, 82.9981718464351)"
      ]
     },
     "execution_count": 288,
     "metadata": {
      "tags": []
     },
     "output_type": "execute_result"
    }
   ],
   "source": [
    "linsvc = LinearSVC(random_state=101,max_iter=1500)\n",
    "linsvc.fit(X_train,Y_train_h1n1.to_numpy().ravel())\n",
    "linsvc.score(X_train,Y_train_h1n1)*100,linsvc.score(X_valid,Y_valid_h1n1)*100"
   ]
  },
  {
   "cell_type": "code",
   "execution_count": null,
   "metadata": {
    "colab": {
     "base_uri": "https://localhost:8080/",
     "height": 88
    },
    "colab_type": "code",
    "id": "0PazKogTdK3f",
    "outputId": "a30b2716-60b5-419d-e2c8-82c7fe098e14"
   },
   "outputs": [
    {
     "name": "stderr",
     "output_type": "stream",
     "text": [
      "/usr/local/lib/python3.6/dist-packages/sklearn/svm/_base.py:231: ConvergenceWarning: Solver terminated early (max_iter=1500).  Consider pre-processing your data with StandardScaler or MinMaxScaler.\n",
      "  % self.max_iter, ConvergenceWarning)\n"
     ]
    },
    {
     "data": {
      "text/plain": [
       "(72.1358927483242, 67.0018281535649)"
      ]
     },
     "execution_count": 291,
     "metadata": {
      "tags": []
     },
     "output_type": "execute_result"
    }
   ],
   "source": [
    "svc = SVC(random_state=101,max_iter=1500,kernel='rbf')\n",
    "svc.fit(X_train,Y_train_h1n1.to_numpy().ravel())\n",
    "svc.score(X_train,Y_train_h1n1)*100,svc.score(X_valid,Y_valid_h1n1)*100"
   ]
  },
  {
   "cell_type": "code",
   "execution_count": null,
   "metadata": {
    "colab": {
     "base_uri": "https://localhost:8080/",
     "height": 34
    },
    "colab_type": "code",
    "id": "LdBOk5TidZyO",
    "outputId": "4ee01b57-622c-49e3-bc21-4230b6bf1ca6"
   },
   "outputs": [
    {
     "data": {
      "text/plain": [
       "(100.0, 83.40950639853747)"
      ]
     },
     "execution_count": 292,
     "metadata": {
      "tags": []
     },
     "output_type": "execute_result"
    }
   ],
   "source": [
    "rfc = RandomForestClassifier(random_state=101,n_estimators=600)\n",
    "rfc.fit(X_train,Y_train_h1n1.to_numpy().ravel())\n",
    "rfc.score(X_train,Y_train_h1n1)*100,rfc.score(X_valid,Y_valid_h1n1)*100"
   ]
  },
  {
   "cell_type": "code",
   "execution_count": null,
   "metadata": {
    "colab": {
     "base_uri": "https://localhost:8080/",
     "height": 34
    },
    "colab_type": "code",
    "id": "8uZN616gfZOo",
    "outputId": "ef32f209-a33b-4f26-fb79-dd347e571a71"
   },
   "outputs": [
    {
     "data": {
      "text/plain": [
       "0.5391502060537161"
      ]
     },
     "execution_count": 295,
     "metadata": {
      "tags": []
     },
     "output_type": "execute_result"
    }
   ],
   "source": [
    "f1_score(logreg.predict(X_train),Y_train_h1n1)"
   ]
  },
  {
   "cell_type": "code",
   "execution_count": null,
   "metadata": {
    "colab": {
     "base_uri": "https://localhost:8080/",
     "height": 164
    },
    "colab_type": "code",
    "id": "ObbHBzjyfbB2",
    "outputId": "52341645-dcb8-4d94-e9bf-b6244f10241c"
   },
   "outputs": [
    {
     "ename": "NameError",
     "evalue": "ignored",
     "output_type": "error",
     "traceback": [
      "\u001b[0;31m---------------------------------------------------------------------------\u001b[0m",
      "\u001b[0;31mNameError\u001b[0m                                 Traceback (most recent call last)",
      "\u001b[0;32m<ipython-input-293-93807d309286>\u001b[0m in \u001b[0;36m<module>\u001b[0;34m()\u001b[0m\n\u001b[0;32m----> 1\u001b[0;31m \u001b[0mdir\u001b[0m\u001b[0;34m(\u001b[0m\u001b[0msklearn\u001b[0m\u001b[0;34m.\u001b[0m\u001b[0mmetrics\u001b[0m\u001b[0;34m)\u001b[0m\u001b[0;34m\u001b[0m\u001b[0;34m\u001b[0m\u001b[0m\n\u001b[0m",
      "\u001b[0;31mNameError\u001b[0m: name 'sklearn' is not defined"
     ]
    }
   ],
   "source": []
  },
  {
   "cell_type": "code",
   "execution_count": null,
   "metadata": {
    "colab": {},
    "colab_type": "code",
    "id": "H_f-jI4nirH_"
   },
   "outputs": [],
   "source": []
  }
 ],
 "metadata": {
  "colab": {
   "name": "vaccinaton_challenge_preprocessing.ipynb",
   "provenance": [],
   "toc_visible": true
  },
  "kernelspec": {
   "display_name": "Python 3",
   "language": "python",
   "name": "python3"
  },
  "language_info": {
   "codemirror_mode": {
    "name": "ipython",
    "version": 3
   },
   "file_extension": ".py",
   "mimetype": "text/x-python",
   "name": "python",
   "nbconvert_exporter": "python",
   "pygments_lexer": "ipython3",
   "version": "3.7.3"
  }
 },
 "nbformat": 4,
 "nbformat_minor": 1
}
